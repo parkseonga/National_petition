{
 "cells": [
  {
   "cell_type": "code",
   "execution_count": 1,
   "metadata": {},
   "outputs": [
    {
     "data": {
      "text/html": [
       "<div>\n",
       "<style scoped>\n",
       "    .dataframe tbody tr th:only-of-type {\n",
       "        vertical-align: middle;\n",
       "    }\n",
       "\n",
       "    .dataframe tbody tr th {\n",
       "        vertical-align: top;\n",
       "    }\n",
       "\n",
       "    .dataframe thead th {\n",
       "        text-align: right;\n",
       "    }\n",
       "</style>\n",
       "<table border=\"1\" class=\"dataframe\">\n",
       "  <thead>\n",
       "    <tr style=\"text-align: right;\">\n",
       "      <th></th>\n",
       "      <th>code</th>\n",
       "      <th>sdays</th>\n",
       "      <th>edays</th>\n",
       "      <th>title</th>\n",
       "      <th>count</th>\n",
       "      <th>content</th>\n",
       "      <th>category</th>\n",
       "      <th>progress</th>\n",
       "      <th>link</th>\n",
       "    </tr>\n",
       "  </thead>\n",
       "  <tbody>\n",
       "    <tr>\n",
       "      <th>0</th>\n",
       "      <td>543000</td>\n",
       "      <td>2019-03-01</td>\n",
       "      <td>2019-03-31</td>\n",
       "      <td>용인 D대학의 갑질을 고발합니다. 제 동생의 억울함을 풀수있도록 도와주세요!</td>\n",
       "      <td>1172</td>\n",
       "      <td>\\n\\t\\t\\t\\t\\t\\t\\t\\t\\t\\t안녕하세요 저는 학생을 상대로 한 학교와 교...</td>\n",
       "      <td>기타</td>\n",
       "      <td>청원종료</td>\n",
       "      <td>https://www1.president.go.kr/petitions/543000</td>\n",
       "    </tr>\n",
       "    <tr>\n",
       "      <th>1</th>\n",
       "      <td>543001</td>\n",
       "      <td>2019-03-01</td>\n",
       "      <td>2019-03-31</td>\n",
       "      <td>미세먼지 정말 방법이 없는건가요. 안하는 건가요.</td>\n",
       "      <td>29</td>\n",
       "      <td>\\n\\t\\t\\t\\t\\t\\t\\t\\t\\t\\t33살. 21개월 아들 하나있는 집의 가장입...</td>\n",
       "      <td>미래</td>\n",
       "      <td>청원종료</td>\n",
       "      <td>https://www1.president.go.kr/petitions/543001</td>\n",
       "    </tr>\n",
       "    <tr>\n",
       "      <th>2</th>\n",
       "      <td>543002</td>\n",
       "      <td>2019-03-01</td>\n",
       "      <td>2019-03-31</td>\n",
       "      <td>트럼프 대통령!...견조 하십니다.!</td>\n",
       "      <td>0</td>\n",
       "      <td>\\n\\t\\t\\t\\t\\t\\t\\t\\t\\t\\t미국 대통령,트럼프를 평함에 갑론을박이 당연...</td>\n",
       "      <td>외교/통일/국방</td>\n",
       "      <td>청원종료</td>\n",
       "      <td>https://www1.president.go.kr/petitions/543002</td>\n",
       "    </tr>\n",
       "    <tr>\n",
       "      <th>3</th>\n",
       "      <td>543003</td>\n",
       "      <td>2019-03-01</td>\n",
       "      <td>2019-03-31</td>\n",
       "      <td>어린이집 교사 대표 원장등 인성교육좀 해주세요</td>\n",
       "      <td>7</td>\n",
       "      <td>\\n\\t\\t\\t\\t\\t\\t\\t\\t\\t\\t어린이집 대표등 특히 남자 \\r\\n청주시 *...</td>\n",
       "      <td>육아/교육</td>\n",
       "      <td>청원종료</td>\n",
       "      <td>https://www1.president.go.kr/petitions/543003</td>\n",
       "    </tr>\n",
       "    <tr>\n",
       "      <th>4</th>\n",
       "      <td>543004</td>\n",
       "      <td>2019-03-01</td>\n",
       "      <td>2019-03-31</td>\n",
       "      <td>운전직 종사자 인권, 복지, 근로여건, 처우개선</td>\n",
       "      <td>6</td>\n",
       "      <td>\\n\\t\\t\\t\\t\\t\\t\\t\\t\\t\\t선진국이라고 자부하는 대한민국 정말 놀라울 ...</td>\n",
       "      <td>인권/성평등</td>\n",
       "      <td>청원종료</td>\n",
       "      <td>https://www1.president.go.kr/petitions/543004</td>\n",
       "    </tr>\n",
       "  </tbody>\n",
       "</table>\n",
       "</div>"
      ],
      "text/plain": [
       "     code       sdays       edays                                       title  \\\n",
       "0  543000  2019-03-01  2019-03-31  용인 D대학의 갑질을 고발합니다. 제 동생의 억울함을 풀수있도록 도와주세요!   \n",
       "1  543001  2019-03-01  2019-03-31                 미세먼지 정말 방법이 없는건가요. 안하는 건가요.   \n",
       "2  543002  2019-03-01  2019-03-31                        트럼프 대통령!...견조 하십니다.!   \n",
       "3  543003  2019-03-01  2019-03-31                   어린이집 교사 대표 원장등 인성교육좀 해주세요   \n",
       "4  543004  2019-03-01  2019-03-31                  운전직 종사자 인권, 복지, 근로여건, 처우개선   \n",
       "\n",
       "  count                                            content  category progress  \\\n",
       "0  1172  \\n\\t\\t\\t\\t\\t\\t\\t\\t\\t\\t안녕하세요 저는 학생을 상대로 한 학교와 교...        기타    청원종료    \n",
       "1    29  \\n\\t\\t\\t\\t\\t\\t\\t\\t\\t\\t33살. 21개월 아들 하나있는 집의 가장입...        미래    청원종료    \n",
       "2     0  \\n\\t\\t\\t\\t\\t\\t\\t\\t\\t\\t미국 대통령,트럼프를 평함에 갑론을박이 당연...  외교/통일/국방    청원종료    \n",
       "3     7  \\n\\t\\t\\t\\t\\t\\t\\t\\t\\t\\t어린이집 대표등 특히 남자 \\r\\n청주시 *...     육아/교육    청원종료    \n",
       "4     6  \\n\\t\\t\\t\\t\\t\\t\\t\\t\\t\\t선진국이라고 자부하는 대한민국 정말 놀라울 ...    인권/성평등    청원종료    \n",
       "\n",
       "                                            link  \n",
       "0  https://www1.president.go.kr/petitions/543000  \n",
       "1  https://www1.president.go.kr/petitions/543001  \n",
       "2  https://www1.president.go.kr/petitions/543002  \n",
       "3  https://www1.president.go.kr/petitions/543003  \n",
       "4  https://www1.president.go.kr/petitions/543004  "
      ]
     },
     "execution_count": 1,
     "metadata": {},
     "output_type": "execute_result"
    }
   ],
   "source": [
    "import pandas as pd\n",
    "\n",
    "data = pd.read_pickle(\"petition_data_sample.pkl\")\n",
    "data.head()"
   ]
  },
  {
   "cell_type": "code",
   "execution_count": 2,
   "metadata": {},
   "outputs": [
    {
     "name": "stdout",
     "output_type": "stream",
     "text": [
      "<class 'pandas.core.frame.DataFrame'>\n",
      "RangeIndex: 24196 entries, 0 to 24195\n",
      "Data columns (total 9 columns):\n",
      " #   Column    Non-Null Count  Dtype \n",
      "---  ------    --------------  ----- \n",
      " 0   code      24196 non-null  object\n",
      " 1   sdays     15824 non-null  object\n",
      " 2   edays     15824 non-null  object\n",
      " 3   title     24196 non-null  object\n",
      " 4   count     15824 non-null  object\n",
      " 5   content   24196 non-null  object\n",
      " 6   category  24196 non-null  object\n",
      " 7   progress  24196 non-null  object\n",
      " 8   link      24196 non-null  object\n",
      "dtypes: object(9)\n",
      "memory usage: 1.7+ MB\n"
     ]
    }
   ],
   "source": [
    "data.info()"
   ]
  },
  {
   "cell_type": "code",
   "execution_count": 3,
   "metadata": {},
   "outputs": [
    {
     "data": {
      "text/plain": [
       "code           0\n",
       "sdays       8372\n",
       "edays       8372\n",
       "title          0\n",
       "count       8372\n",
       "content        0\n",
       "category       0\n",
       "progress       0\n",
       "link           0\n",
       "dtype: int64"
      ]
     },
     "execution_count": 3,
     "metadata": {},
     "output_type": "execute_result"
    }
   ],
   "source": [
    "data.isnull().sum()"
   ]
  },
  {
   "cell_type": "code",
   "execution_count": 4,
   "metadata": {},
   "outputs": [
    {
     "data": {
      "text/html": [
       "<div>\n",
       "<style scoped>\n",
       "    .dataframe tbody tr th:only-of-type {\n",
       "        vertical-align: middle;\n",
       "    }\n",
       "\n",
       "    .dataframe tbody tr th {\n",
       "        vertical-align: top;\n",
       "    }\n",
       "\n",
       "    .dataframe thead th {\n",
       "        text-align: right;\n",
       "    }\n",
       "</style>\n",
       "<table border=\"1\" class=\"dataframe\">\n",
       "  <thead>\n",
       "    <tr style=\"text-align: right;\">\n",
       "      <th></th>\n",
       "      <th>code</th>\n",
       "      <th>sdays</th>\n",
       "      <th>edays</th>\n",
       "      <th>title</th>\n",
       "      <th>count</th>\n",
       "      <th>content</th>\n",
       "      <th>category</th>\n",
       "      <th>progress</th>\n",
       "      <th>link</th>\n",
       "    </tr>\n",
       "  </thead>\n",
       "  <tbody>\n",
       "    <tr>\n",
       "      <th>5</th>\n",
       "      <td>543005</td>\n",
       "      <td>None</td>\n",
       "      <td>None</td>\n",
       "      <td>비공개처리</td>\n",
       "      <td>None</td>\n",
       "      <td>비공개처리</td>\n",
       "      <td>비공개처리</td>\n",
       "      <td>비공개처리</td>\n",
       "      <td>비공개처리</td>\n",
       "    </tr>\n",
       "    <tr>\n",
       "      <th>6</th>\n",
       "      <td>543006</td>\n",
       "      <td>None</td>\n",
       "      <td>None</td>\n",
       "      <td>비공개처리</td>\n",
       "      <td>None</td>\n",
       "      <td>비공개처리</td>\n",
       "      <td>비공개처리</td>\n",
       "      <td>비공개처리</td>\n",
       "      <td>비공개처리</td>\n",
       "    </tr>\n",
       "    <tr>\n",
       "      <th>7</th>\n",
       "      <td>543007</td>\n",
       "      <td>None</td>\n",
       "      <td>None</td>\n",
       "      <td>비공개처리</td>\n",
       "      <td>None</td>\n",
       "      <td>비공개처리</td>\n",
       "      <td>비공개처리</td>\n",
       "      <td>비공개처리</td>\n",
       "      <td>비공개처리</td>\n",
       "    </tr>\n",
       "    <tr>\n",
       "      <th>8</th>\n",
       "      <td>543008</td>\n",
       "      <td>None</td>\n",
       "      <td>None</td>\n",
       "      <td>비공개처리</td>\n",
       "      <td>None</td>\n",
       "      <td>비공개처리</td>\n",
       "      <td>비공개처리</td>\n",
       "      <td>비공개처리</td>\n",
       "      <td>비공개처리</td>\n",
       "    </tr>\n",
       "    <tr>\n",
       "      <th>9</th>\n",
       "      <td>543009</td>\n",
       "      <td>None</td>\n",
       "      <td>None</td>\n",
       "      <td>비공개처리</td>\n",
       "      <td>None</td>\n",
       "      <td>비공개처리</td>\n",
       "      <td>비공개처리</td>\n",
       "      <td>비공개처리</td>\n",
       "      <td>비공개처리</td>\n",
       "    </tr>\n",
       "    <tr>\n",
       "      <th>...</th>\n",
       "      <td>...</td>\n",
       "      <td>...</td>\n",
       "      <td>...</td>\n",
       "      <td>...</td>\n",
       "      <td>...</td>\n",
       "      <td>...</td>\n",
       "      <td>...</td>\n",
       "      <td>...</td>\n",
       "      <td>...</td>\n",
       "    </tr>\n",
       "    <tr>\n",
       "      <th>24191</th>\n",
       "      <td>567191</td>\n",
       "      <td>None</td>\n",
       "      <td>None</td>\n",
       "      <td>비공개처리</td>\n",
       "      <td>None</td>\n",
       "      <td>비공개처리</td>\n",
       "      <td>비공개처리</td>\n",
       "      <td>비공개처리</td>\n",
       "      <td>비공개처리</td>\n",
       "    </tr>\n",
       "    <tr>\n",
       "      <th>24192</th>\n",
       "      <td>567191</td>\n",
       "      <td>None</td>\n",
       "      <td>None</td>\n",
       "      <td>비공개처리</td>\n",
       "      <td>None</td>\n",
       "      <td>비공개처리</td>\n",
       "      <td>비공개처리</td>\n",
       "      <td>비공개처리</td>\n",
       "      <td>비공개처리</td>\n",
       "    </tr>\n",
       "    <tr>\n",
       "      <th>24193</th>\n",
       "      <td>567192</td>\n",
       "      <td>None</td>\n",
       "      <td>None</td>\n",
       "      <td>비공개처리</td>\n",
       "      <td>None</td>\n",
       "      <td>비공개처리</td>\n",
       "      <td>비공개처리</td>\n",
       "      <td>비공개처리</td>\n",
       "      <td>비공개처리</td>\n",
       "    </tr>\n",
       "    <tr>\n",
       "      <th>24194</th>\n",
       "      <td>567193</td>\n",
       "      <td>None</td>\n",
       "      <td>None</td>\n",
       "      <td>비공개처리</td>\n",
       "      <td>None</td>\n",
       "      <td>비공개처리</td>\n",
       "      <td>비공개처리</td>\n",
       "      <td>비공개처리</td>\n",
       "      <td>비공개처리</td>\n",
       "    </tr>\n",
       "    <tr>\n",
       "      <th>24195</th>\n",
       "      <td>567194</td>\n",
       "      <td>None</td>\n",
       "      <td>None</td>\n",
       "      <td>비공개처리</td>\n",
       "      <td>None</td>\n",
       "      <td>비공개처리</td>\n",
       "      <td>비공개처리</td>\n",
       "      <td>비공개처리</td>\n",
       "      <td>비공개처리</td>\n",
       "    </tr>\n",
       "  </tbody>\n",
       "</table>\n",
       "<p>8372 rows × 9 columns</p>\n",
       "</div>"
      ],
      "text/plain": [
       "         code sdays edays  title count content category progress   link\n",
       "5      543005  None  None  비공개처리  None   비공개처리    비공개처리    비공개처리  비공개처리\n",
       "6      543006  None  None  비공개처리  None   비공개처리    비공개처리    비공개처리  비공개처리\n",
       "7      543007  None  None  비공개처리  None   비공개처리    비공개처리    비공개처리  비공개처리\n",
       "8      543008  None  None  비공개처리  None   비공개처리    비공개처리    비공개처리  비공개처리\n",
       "9      543009  None  None  비공개처리  None   비공개처리    비공개처리    비공개처리  비공개처리\n",
       "...       ...   ...   ...    ...   ...     ...      ...      ...    ...\n",
       "24191  567191  None  None  비공개처리  None   비공개처리    비공개처리    비공개처리  비공개처리\n",
       "24192  567191  None  None  비공개처리  None   비공개처리    비공개처리    비공개처리  비공개처리\n",
       "24193  567192  None  None  비공개처리  None   비공개처리    비공개처리    비공개처리  비공개처리\n",
       "24194  567193  None  None  비공개처리  None   비공개처리    비공개처리    비공개처리  비공개처리\n",
       "24195  567194  None  None  비공개처리  None   비공개처리    비공개처리    비공개처리  비공개처리\n",
       "\n",
       "[8372 rows x 9 columns]"
      ]
     },
     "execution_count": 4,
     "metadata": {},
     "output_type": "execute_result"
    }
   ],
   "source": [
    "data[data['count'].isnull()]"
   ]
  },
  {
   "cell_type": "code",
   "execution_count": 5,
   "metadata": {},
   "outputs": [
    {
     "data": {
      "text/plain": [
       "code        0\n",
       "sdays       0\n",
       "edays       0\n",
       "title       0\n",
       "count       0\n",
       "content     0\n",
       "category    0\n",
       "progress    0\n",
       "link        0\n",
       "dtype: int64"
      ]
     },
     "execution_count": 5,
     "metadata": {},
     "output_type": "execute_result"
    }
   ],
   "source": [
    "data[data['title']!='비공개처리'].isnull().sum()"
   ]
  },
  {
   "cell_type": "code",
   "execution_count": 6,
   "metadata": {},
   "outputs": [],
   "source": [
    "data = data[data['title']!='비공개처리']"
   ]
  },
  {
   "cell_type": "code",
   "execution_count": 7,
   "metadata": {},
   "outputs": [],
   "source": [
    "data['sdays'] = pd.to_datetime(data['sdays'])\n",
    "data['edays'] = pd.to_datetime(data['edays'])\n",
    "\n",
    "data['count'] = pd.to_numeric(data['count'])"
   ]
  },
  {
   "cell_type": "code",
   "execution_count": 33,
   "metadata": {},
   "outputs": [
    {
     "name": "stderr",
     "output_type": "stream",
     "text": [
      "IOPub data rate exceeded.\n",
      "The notebook server will temporarily stop sending output\n",
      "to the client in order to avoid crashing it.\n",
      "To change this limit, set the config variable\n",
      "`--NotebookApp.iopub_data_rate_limit`.\n",
      "\n",
      "Current values:\n",
      "NotebookApp.iopub_data_rate_limit=1000000.0 (bytes/sec)\n",
      "NotebookApp.rate_limit_window=3.0 (secs)\n",
      "\n"
     ]
    }
   ],
   "source": [
    "from konlpy.tag import Okt\n",
    "\n",
    "okt = Okt()\n",
    "\n",
    "doc_nouns_list = [' '.join(okt.nouns(doc)) for doc in data['content']]\n",
    "\n",
    "print(doc_nouns_list)"
   ]
  },
  {
   "cell_type": "code",
   "execution_count": 1,
   "metadata": {},
   "outputs": [
    {
     "ename": "NameError",
     "evalue": "name 'data' is not defined",
     "output_type": "error",
     "traceback": [
      "\u001b[1;31m---------------------------------------------------------------------------\u001b[0m",
      "\u001b[1;31mNameError\u001b[0m                                 Traceback (most recent call last)",
      "\u001b[1;32m<ipython-input-1-c6201f8cef64>\u001b[0m in \u001b[0;36m<module>\u001b[1;34m\u001b[0m\n\u001b[1;32m----> 1\u001b[1;33m \u001b[0mlen\u001b[0m\u001b[1;33m(\u001b[0m\u001b[0mdata\u001b[0m\u001b[1;33m)\u001b[0m\u001b[1;33m\u001b[0m\u001b[1;33m\u001b[0m\u001b[0m\n\u001b[0m",
      "\u001b[1;31mNameError\u001b[0m: name 'data' is not defined"
     ]
    }
   ],
   "source": [
    "len(data)"
   ]
  },
  {
   "cell_type": "code",
   "execution_count": 35,
   "metadata": {},
   "outputs": [],
   "source": [
    "from sklearn.feature_extraction.text import TfidfVectorizer\n",
    "\n",
    "tfidf_vectorizer = TfidfVectorizer(min_df=2)  # 한 번만 나타나는 단어들은 무시\n",
    "tfidf_matrix = tfidf_vectorizer.fit_transform(doc_nouns_list)\n",
    "\n",
    "from sklearn.metrics.pairwise import linear_kernel\n",
    "cosine_sim = linear_kernel(tfidf_matrix, tfidf_matrix)\n"
   ]
  },
  {
   "cell_type": "code",
   "execution_count": 36,
   "metadata": {},
   "outputs": [
    {
     "data": {
      "text/plain": [
       "array([[1.        , 0.01567837, 0.01570999, ..., 0.0153856 , 0.02065467,\n",
       "        0.        ],\n",
       "       [0.01567837, 1.        , 0.03947423, ..., 0.01486108, 0.04768357,\n",
       "        0.        ],\n",
       "       [0.01570999, 0.03947423, 1.        , ..., 0.00675454, 0.05174579,\n",
       "        0.        ],\n",
       "       ...,\n",
       "       [0.0153856 , 0.01486108, 0.00675454, ..., 1.        , 0.00566219,\n",
       "        0.        ],\n",
       "       [0.02065467, 0.04768357, 0.05174579, ..., 0.00566219, 1.        ,\n",
       "        0.        ],\n",
       "       [0.        , 0.        , 0.        , ..., 0.        , 0.        ,\n",
       "        1.        ]])"
      ]
     },
     "execution_count": 36,
     "metadata": {},
     "output_type": "execute_result"
    }
   ],
   "source": [
    "cosine_sim"
   ]
  },
  {
   "cell_type": "code",
   "execution_count": 37,
   "metadata": {},
   "outputs": [],
   "source": [
    "indices = pd.Series(data.index, index=data['title']).drop_duplicates()"
   ]
  },
  {
   "cell_type": "code",
   "execution_count": 38,
   "metadata": {},
   "outputs": [
    {
     "data": {
      "text/plain": [
       "title\n",
       "용인 D대학의 갑질을 고발합니다. 제 동생의 억울함을 풀수있도록 도와주세요!                   0\n",
       "미세먼지 정말 방법이 없는건가요. 안하는 건가요.                                  1\n",
       "트럼프 대통령!...견조 하십니다.!                                         2\n",
       "어린이집 교사 대표 원장등 인성교육좀 해주세요                                    3\n",
       "운전직 종사자 인권, 복지, 근로여건, 처우개선                                   4\n",
       "                                                         ...  \n",
       "청년지원 조건이 너무 까다롭습니다.                                      24183\n",
       "자유한국당 혹시 위헌정당 아닌가요?                                      24184\n",
       "건축현장쓰래기를조경해하는화단에묻고나무를심어도되는지요                             24185\n",
       "대한민국 국민의 한 사람으로서 '태극기 사적 사용금지'를 위한 법률 개정을 건의합니다.(전체글)    24186\n",
       "TV조선과 조선일보의 막말이나 막글은 방송심의 대상이 아닌가요?                      24188\n",
       "Length: 15824, dtype: int64"
      ]
     },
     "execution_count": 38,
     "metadata": {},
     "output_type": "execute_result"
    }
   ],
   "source": [
    "indices"
   ]
  },
  {
   "cell_type": "code",
   "execution_count": 39,
   "metadata": {},
   "outputs": [],
   "source": [
    "def get_recommendations(title, cosine_sim=cosine_sim):\n",
    "    # 청원 타이틀로부터 해당되는 인덱스를 받아옴.\n",
    "    idx = indices[title]\n",
    "\n",
    "    # 모든 청원에 대해서 해당 청원과의 유사도 추출.\n",
    "    sim_scores = list(enumerate(cosine_sim[idx]))\n",
    "    \n",
    "    movie_indices = [i[0] for i in sim_scores]\n",
    "    movie_similarity = [i[1] for i in sim_scores]\n",
    "\n",
    "    df_sim = pd.DataFrame({'title':data['title'].iloc[movie_indices], 'sim': movie_similarity})\n",
    "\n",
    "    return df_sim"
   ]
  },
  {
   "cell_type": "code",
   "execution_count": 40,
   "metadata": {},
   "outputs": [],
   "source": [
    "df_pr_count = data.reset_index(drop=True)"
   ]
  },
  {
   "cell_type": "code",
   "execution_count": 41,
   "metadata": {},
   "outputs": [],
   "source": [
    "data = data.reset_index(drop =True)"
   ]
  },
  {
   "cell_type": "code",
   "execution_count": 42,
   "metadata": {},
   "outputs": [
    {
     "ename": "ValueError",
     "evalue": "The truth value of an array with more than one element is ambiguous. Use a.any() or a.all()",
     "output_type": "error",
     "traceback": [
      "\u001b[1;31m---------------------------------------------------------------------------\u001b[0m",
      "\u001b[1;31mValueError\u001b[0m                                Traceback (most recent call last)",
      "\u001b[1;32m<ipython-input-42-56f04fc7f99b>\u001b[0m in \u001b[0;36m<module>\u001b[1;34m\u001b[0m\n\u001b[0;32m      5\u001b[0m     \u001b[0mdf_sim\u001b[0m \u001b[1;33m=\u001b[0m \u001b[0mget_recommendations\u001b[0m\u001b[1;33m(\u001b[0m\u001b[0mdf_pr_count\u001b[0m\u001b[1;33m[\u001b[0m\u001b[1;34m'title'\u001b[0m\u001b[1;33m]\u001b[0m\u001b[1;33m[\u001b[0m\u001b[0mi\u001b[0m\u001b[1;33m]\u001b[0m\u001b[1;33m)\u001b[0m \u001b[1;31m# 함수에 적용\u001b[0m\u001b[1;33m\u001b[0m\u001b[1;33m\u001b[0m\u001b[0m\n\u001b[0;32m      6\u001b[0m \u001b[1;33m\u001b[0m\u001b[0m\n\u001b[1;32m----> 7\u001b[1;33m     \u001b[0mdf_sim\u001b[0m \u001b[1;33m=\u001b[0m \u001b[0mdf_sim\u001b[0m\u001b[1;33m[\u001b[0m\u001b[0mdf_sim\u001b[0m\u001b[1;33m[\u001b[0m\u001b[1;34m'sim'\u001b[0m\u001b[1;33m]\u001b[0m\u001b[1;33m>=\u001b[0m\u001b[1;36m0.20\u001b[0m\u001b[1;33m]\u001b[0m\u001b[1;33m\u001b[0m\u001b[1;33m\u001b[0m\u001b[0m\n\u001b[0m\u001b[0;32m      8\u001b[0m \u001b[1;33m\u001b[0m\u001b[0m\n\u001b[0;32m      9\u001b[0m     \u001b[0mdf_end\u001b[0m \u001b[1;33m=\u001b[0m \u001b[0mpd\u001b[0m\u001b[1;33m.\u001b[0m\u001b[0mconcat\u001b[0m\u001b[1;33m(\u001b[0m\u001b[1;33m[\u001b[0m\u001b[0mdata\u001b[0m\u001b[1;33m.\u001b[0m\u001b[0miloc\u001b[0m\u001b[1;33m[\u001b[0m\u001b[0mdf_sim\u001b[0m\u001b[1;33m.\u001b[0m\u001b[0mindex\u001b[0m\u001b[1;33m]\u001b[0m\u001b[1;33m,\u001b[0m\u001b[0mdf_sim\u001b[0m\u001b[1;33m[\u001b[0m\u001b[1;33m[\u001b[0m\u001b[1;34m'sim'\u001b[0m\u001b[1;33m]\u001b[0m\u001b[1;33m]\u001b[0m\u001b[1;33m]\u001b[0m\u001b[1;33m,\u001b[0m\u001b[0maxis\u001b[0m\u001b[1;33m=\u001b[0m\u001b[1;36m1\u001b[0m\u001b[1;33m)\u001b[0m\u001b[1;33m\u001b[0m\u001b[1;33m\u001b[0m\u001b[0m\n",
      "\u001b[1;32m~\\anaconda3\\lib\\site-packages\\pandas\\core\\ops\\common.py\u001b[0m in \u001b[0;36mnew_method\u001b[1;34m(self, other)\u001b[0m\n\u001b[0;32m     63\u001b[0m         \u001b[0mother\u001b[0m \u001b[1;33m=\u001b[0m \u001b[0mitem_from_zerodim\u001b[0m\u001b[1;33m(\u001b[0m\u001b[0mother\u001b[0m\u001b[1;33m)\u001b[0m\u001b[1;33m\u001b[0m\u001b[1;33m\u001b[0m\u001b[0m\n\u001b[0;32m     64\u001b[0m \u001b[1;33m\u001b[0m\u001b[0m\n\u001b[1;32m---> 65\u001b[1;33m         \u001b[1;32mreturn\u001b[0m \u001b[0mmethod\u001b[0m\u001b[1;33m(\u001b[0m\u001b[0mself\u001b[0m\u001b[1;33m,\u001b[0m \u001b[0mother\u001b[0m\u001b[1;33m)\u001b[0m\u001b[1;33m\u001b[0m\u001b[1;33m\u001b[0m\u001b[0m\n\u001b[0m\u001b[0;32m     66\u001b[0m \u001b[1;33m\u001b[0m\u001b[0m\n\u001b[0;32m     67\u001b[0m     \u001b[1;32mreturn\u001b[0m \u001b[0mnew_method\u001b[0m\u001b[1;33m\u001b[0m\u001b[1;33m\u001b[0m\u001b[0m\n",
      "\u001b[1;32m~\\anaconda3\\lib\\site-packages\\pandas\\core\\ops\\__init__.py\u001b[0m in \u001b[0;36mwrapper\u001b[1;34m(self, other)\u001b[0m\n\u001b[0;32m    368\u001b[0m         \u001b[0mrvalues\u001b[0m \u001b[1;33m=\u001b[0m \u001b[0mextract_array\u001b[0m\u001b[1;33m(\u001b[0m\u001b[0mother\u001b[0m\u001b[1;33m,\u001b[0m \u001b[0mextract_numpy\u001b[0m\u001b[1;33m=\u001b[0m\u001b[1;32mTrue\u001b[0m\u001b[1;33m)\u001b[0m\u001b[1;33m\u001b[0m\u001b[1;33m\u001b[0m\u001b[0m\n\u001b[0;32m    369\u001b[0m \u001b[1;33m\u001b[0m\u001b[0m\n\u001b[1;32m--> 370\u001b[1;33m         \u001b[0mres_values\u001b[0m \u001b[1;33m=\u001b[0m \u001b[0mcomparison_op\u001b[0m\u001b[1;33m(\u001b[0m\u001b[0mlvalues\u001b[0m\u001b[1;33m,\u001b[0m \u001b[0mrvalues\u001b[0m\u001b[1;33m,\u001b[0m \u001b[0mop\u001b[0m\u001b[1;33m)\u001b[0m\u001b[1;33m\u001b[0m\u001b[1;33m\u001b[0m\u001b[0m\n\u001b[0m\u001b[0;32m    371\u001b[0m \u001b[1;33m\u001b[0m\u001b[0m\n\u001b[0;32m    372\u001b[0m         \u001b[1;32mreturn\u001b[0m \u001b[0mself\u001b[0m\u001b[1;33m.\u001b[0m\u001b[0m_construct_result\u001b[0m\u001b[1;33m(\u001b[0m\u001b[0mres_values\u001b[0m\u001b[1;33m,\u001b[0m \u001b[0mname\u001b[0m\u001b[1;33m=\u001b[0m\u001b[0mres_name\u001b[0m\u001b[1;33m)\u001b[0m\u001b[1;33m\u001b[0m\u001b[1;33m\u001b[0m\u001b[0m\n",
      "\u001b[1;32m~\\anaconda3\\lib\\site-packages\\pandas\\core\\ops\\array_ops.py\u001b[0m in \u001b[0;36mcomparison_op\u001b[1;34m(left, right, op)\u001b[0m\n\u001b[0;32m    242\u001b[0m \u001b[1;33m\u001b[0m\u001b[0m\n\u001b[0;32m    243\u001b[0m     \u001b[1;32melif\u001b[0m \u001b[0mis_object_dtype\u001b[0m\u001b[1;33m(\u001b[0m\u001b[0mlvalues\u001b[0m\u001b[1;33m.\u001b[0m\u001b[0mdtype\u001b[0m\u001b[1;33m)\u001b[0m\u001b[1;33m:\u001b[0m\u001b[1;33m\u001b[0m\u001b[1;33m\u001b[0m\u001b[0m\n\u001b[1;32m--> 244\u001b[1;33m         \u001b[0mres_values\u001b[0m \u001b[1;33m=\u001b[0m \u001b[0mcomp_method_OBJECT_ARRAY\u001b[0m\u001b[1;33m(\u001b[0m\u001b[0mop\u001b[0m\u001b[1;33m,\u001b[0m \u001b[0mlvalues\u001b[0m\u001b[1;33m,\u001b[0m \u001b[0mrvalues\u001b[0m\u001b[1;33m)\u001b[0m\u001b[1;33m\u001b[0m\u001b[1;33m\u001b[0m\u001b[0m\n\u001b[0m\u001b[0;32m    245\u001b[0m \u001b[1;33m\u001b[0m\u001b[0m\n\u001b[0;32m    246\u001b[0m     \u001b[1;32melse\u001b[0m\u001b[1;33m:\u001b[0m\u001b[1;33m\u001b[0m\u001b[1;33m\u001b[0m\u001b[0m\n",
      "\u001b[1;32m~\\anaconda3\\lib\\site-packages\\pandas\\core\\ops\\array_ops.py\u001b[0m in \u001b[0;36mcomp_method_OBJECT_ARRAY\u001b[1;34m(op, x, y)\u001b[0m\n\u001b[0;32m     54\u001b[0m         \u001b[0mresult\u001b[0m \u001b[1;33m=\u001b[0m \u001b[0mlibops\u001b[0m\u001b[1;33m.\u001b[0m\u001b[0mvec_compare\u001b[0m\u001b[1;33m(\u001b[0m\u001b[0mx\u001b[0m\u001b[1;33m.\u001b[0m\u001b[0mravel\u001b[0m\u001b[1;33m(\u001b[0m\u001b[1;33m)\u001b[0m\u001b[1;33m,\u001b[0m \u001b[0my\u001b[0m\u001b[1;33m.\u001b[0m\u001b[0mravel\u001b[0m\u001b[1;33m(\u001b[0m\u001b[1;33m)\u001b[0m\u001b[1;33m,\u001b[0m \u001b[0mop\u001b[0m\u001b[1;33m)\u001b[0m\u001b[1;33m\u001b[0m\u001b[1;33m\u001b[0m\u001b[0m\n\u001b[0;32m     55\u001b[0m     \u001b[1;32melse\u001b[0m\u001b[1;33m:\u001b[0m\u001b[1;33m\u001b[0m\u001b[1;33m\u001b[0m\u001b[0m\n\u001b[1;32m---> 56\u001b[1;33m         \u001b[0mresult\u001b[0m \u001b[1;33m=\u001b[0m \u001b[0mlibops\u001b[0m\u001b[1;33m.\u001b[0m\u001b[0mscalar_compare\u001b[0m\u001b[1;33m(\u001b[0m\u001b[0mx\u001b[0m\u001b[1;33m.\u001b[0m\u001b[0mravel\u001b[0m\u001b[1;33m(\u001b[0m\u001b[1;33m)\u001b[0m\u001b[1;33m,\u001b[0m \u001b[0my\u001b[0m\u001b[1;33m,\u001b[0m \u001b[0mop\u001b[0m\u001b[1;33m)\u001b[0m\u001b[1;33m\u001b[0m\u001b[1;33m\u001b[0m\u001b[0m\n\u001b[0m\u001b[0;32m     57\u001b[0m     \u001b[1;32mreturn\u001b[0m \u001b[0mresult\u001b[0m\u001b[1;33m.\u001b[0m\u001b[0mreshape\u001b[0m\u001b[1;33m(\u001b[0m\u001b[0mx\u001b[0m\u001b[1;33m.\u001b[0m\u001b[0mshape\u001b[0m\u001b[1;33m)\u001b[0m\u001b[1;33m\u001b[0m\u001b[1;33m\u001b[0m\u001b[0m\n\u001b[0;32m     58\u001b[0m \u001b[1;33m\u001b[0m\u001b[0m\n",
      "\u001b[1;32mpandas\\_libs\\ops.pyx\u001b[0m in \u001b[0;36mpandas._libs.ops.scalar_compare\u001b[1;34m()\u001b[0m\n",
      "\u001b[1;31mValueError\u001b[0m: The truth value of an array with more than one element is ambiguous. Use a.any() or a.all()"
     ]
    }
   ],
   "source": [
    "\n",
    "df_sim_total = pd.DataFrame()\n",
    "\n",
    "for i in range(len(df_pr_count)):\n",
    "    \n",
    "    df_sim = get_recommendations(df_pr_count['title'][i]) # 함수에 적용 \n",
    "    \n",
    "    df_sim = df_sim[df_sim['sim']>=0.20] \n",
    "    \n",
    "    df_end = pd.concat([data.iloc[df_sim.index],df_sim[['sim']]],axis=1)\n",
    "    \n",
    "    df_end['link'] = df_end['code'].apply(lambda x: 'https://www1.president.go.kr/petitions/'+str(x))\n",
    "    \n",
    "    df_end['id'] = i\n",
    "    \n",
    "    df_sim_total = pd.concat([df_sim_total, df_end],axis=0)\n",
    "    \n",
    "    df_sim_total = df_sim_total.reset_index(drop=True)"
   ]
  },
  {
   "cell_type": "code",
   "execution_count": null,
   "metadata": {},
   "outputs": [],
   "source": [
    "df_sim = get_recommendations(df_pr_count['title'][2]) # 함수에 적용 \n",
    "    \n",
    "df_sim = df_sim[df_sim['sim']>=0.20] \n",
    "    "
   ]
  },
  {
   "cell_type": "code",
   "execution_count": null,
   "metadata": {},
   "outputs": [],
   "source": [
    "df_sim"
   ]
  },
  {
   "cell_type": "code",
   "execution_count": 101,
   "metadata": {},
   "outputs": [],
   "source": [
    "doc1 = \"나는 바나나를 많이 많이 좋아해.\"\n",
    "doc2 = \"나는 사과를 정말 좋아해.\"\n",
    "doc3 = \"나는 데이터 분석을 많이 한다.\"\n",
    "doc4 = \"그는 유사도 검정을 한다.\""
   ]
  },
  {
   "cell_type": "code",
   "execution_count": 102,
   "metadata": {},
   "outputs": [],
   "source": [
    "def Jaccard_similarity(doc1, doc2):\n",
    "    \n",
    "    # 띄어쓰기 기준으로 분리\n",
    "    doc1 = doc1.split() \n",
    "    doc2 = doc2.split()\n",
    "    \n",
    "    # 중복 단어 제거 후 합집합과 교집합 \n",
    "    uni = set(doc1).union(set(doc2))\n",
    "    inter = set(doc1).intersection(set(doc2))\n",
    "    \n",
    "    print(uni)\n",
    "    print(inter)\n",
    "    \n",
    "    return len(inter)/len(uni)"
   ]
  },
  {
   "cell_type": "code",
   "execution_count": 103,
   "metadata": {},
   "outputs": [
    {
     "name": "stdout",
     "output_type": "stream",
     "text": [
      "{'좋아해.', '나는', '많이', '바나나를', '정말', '사과를'}\n",
      "{'좋아해.', '나는'}\n"
     ]
    },
    {
     "data": {
      "text/plain": [
       "0.3333333333333333"
      ]
     },
     "execution_count": 103,
     "metadata": {},
     "output_type": "execute_result"
    }
   ],
   "source": [
    "JaccardSimilarity(doc1, doc2)"
   ]
  },
  {
   "cell_type": "code",
   "execution_count": 104,
   "metadata": {},
   "outputs": [
    {
     "name": "stdout",
     "output_type": "stream",
     "text": [
      "{'데이터', '좋아해.', '나는', '많이', '한다.', '분석을', '정말', '사과를'}\n",
      "{'나는'}\n"
     ]
    },
    {
     "data": {
      "text/plain": [
       "0.125"
      ]
     },
     "execution_count": 104,
     "metadata": {},
     "output_type": "execute_result"
    }
   ],
   "source": [
    "JaccardSimilarity(doc2, doc3)"
   ]
  },
  {
   "cell_type": "code",
   "execution_count": 105,
   "metadata": {},
   "outputs": [
    {
     "name": "stdout",
     "output_type": "stream",
     "text": [
      "{'나는', '한다.', '많이', '분석을', '검정을', '그는', '데이터', '유사도'}\n",
      "{'한다.'}\n"
     ]
    },
    {
     "data": {
      "text/plain": [
       "0.125"
      ]
     },
     "execution_count": 105,
     "metadata": {},
     "output_type": "execute_result"
    }
   ],
   "source": [
    "JaccardSimilarity(doc3, doc4)"
   ]
  },
  {
   "cell_type": "code",
   "execution_count": 106,
   "metadata": {},
   "outputs": [],
   "source": [
    "doc_list = [doc1, doc2, doc3, doc4]"
   ]
  },
  {
   "cell_type": "code",
   "execution_count": 107,
   "metadata": {},
   "outputs": [
    {
     "data": {
      "text/plain": [
       "['나는 바나나를 많이 많이 좋아해.', '나는 사과를 정말 좋아해.', '나는 데이터 분석을 많이 한다.', '그는 유사도 검정을 한다.']"
      ]
     },
     "execution_count": 107,
     "metadata": {},
     "output_type": "execute_result"
    }
   ],
   "source": [
    "doc_list"
   ]
  },
  {
   "cell_type": "code",
   "execution_count": 108,
   "metadata": {},
   "outputs": [
    {
     "data": {
      "text/plain": [
       "array([[0, 0, 1, 0, 2, 1, 0, 0, 0, 0, 1, 0],\n",
       "       [0, 0, 1, 0, 0, 0, 0, 1, 0, 1, 1, 0],\n",
       "       [0, 0, 1, 1, 1, 0, 1, 0, 0, 0, 0, 1],\n",
       "       [1, 1, 0, 0, 0, 0, 0, 0, 1, 0, 0, 1]], dtype=int64)"
      ]
     },
     "execution_count": 108,
     "metadata": {},
     "output_type": "execute_result"
    }
   ],
   "source": [
    "from sklearn.feature_extraction.text import CountVectorizer\n",
    "\n",
    "vectorizer = CountVectorizer()\n",
    "vectorizer.fit_transform(doc_list).toarray()  #  각 단어의 빈도수 기록"
   ]
  },
  {
   "cell_type": "code",
   "execution_count": 109,
   "metadata": {},
   "outputs": [
    {
     "name": "stdout",
     "output_type": "stream",
     "text": [
      "{'나는': 2, '바나나를': 5, '많이': 4, '좋아해': 10, '사과를': 7, '정말': 9, '데이터': 3, '분석을': 6, '한다': 11, '그는': 1, '유사도': 8, '검정을': 0}\n"
     ]
    }
   ],
   "source": [
    "print(vectorizer.vocabulary_) "
   ]
  },
  {
   "cell_type": "code",
   "execution_count": 112,
   "metadata": {},
   "outputs": [
    {
     "name": "stdout",
     "output_type": "stream",
     "text": [
      "[[0.         0.         0.30037873 0.         0.74205499 0.47060133\n",
      "  0.         0.         0.         0.         0.37102749 0.        ]\n",
      " [0.         0.         0.36674667 0.         0.         0.\n",
      "  0.         0.57457953 0.         0.57457953 0.4530051  0.        ]\n",
      " [0.         0.         0.33406745 0.52338122 0.41263976 0.\n",
      "  0.52338122 0.         0.         0.         0.         0.41263976]\n",
      " [0.52547275 0.52547275 0.         0.         0.         0.\n",
      "  0.         0.         0.52547275 0.         0.         0.41428875]]\n",
      "{'나는': 2, '바나나를': 5, '많이': 4, '좋아해': 10, '사과를': 7, '정말': 9, '데이터': 3, '분석을': 6, '한다': 11, '그는': 1, '유사도': 8, '검정을': 0}\n"
     ]
    }
   ],
   "source": [
    "from sklearn.feature_extraction.text import TfidfVectorizer\n",
    "\n",
    "tfidfv = TfidfVectorizer().fit(doc_list)  # tf-idf를 자동 계산 \n",
    "print(tfidfv.transform(doc_list).toarray())\n",
    "print(tfidfv.vocabulary_)"
   ]
  },
  {
   "cell_type": "code",
   "execution_count": 119,
   "metadata": {},
   "outputs": [
    {
     "name": "stdout",
     "output_type": "stream",
     "text": [
      "[[1.         0.27824025 0.40654815 0.        ]\n",
      " [0.27824025 1.         0.12251812 0.        ]\n",
      " [0.40654815 0.12251812 1.         0.17095201]\n",
      " [0.         0.         0.17095201 1.        ]]\n"
     ]
    }
   ],
   "source": [
    "from sklearn.metrics.pairwise import linear_kernel\n",
    "print(linear_kernel(tfidfv.transform(doc_list), tfidfv.transform(doc_list)))"
   ]
  },
  {
   "cell_type": "code",
   "execution_count": 120,
   "metadata": {},
   "outputs": [
    {
     "name": "stdout",
     "output_type": "stream",
     "text": [
      "[[1.         0.27824025 0.40654815 0.        ]\n",
      " [0.27824025 1.         0.12251812 0.        ]\n",
      " [0.40654815 0.12251812 1.         0.17095201]\n",
      " [0.         0.         0.17095201 1.        ]]\n"
     ]
    }
   ],
   "source": [
    "from sklearn.metrics.pairwise import cosine_similarity\n",
    "\n",
    "print(cosine_similarity(tfidfv.transform(doc_list)))"
   ]
  },
  {
   "cell_type": "code",
   "execution_count": null,
   "metadata": {},
   "outputs": [],
   "source": []
  }
 ],
 "metadata": {
  "kernelspec": {
   "display_name": "Python 3",
   "language": "python",
   "name": "python3"
  },
  "language_info": {
   "codemirror_mode": {
    "name": "ipython",
    "version": 3
   },
   "file_extension": ".py",
   "mimetype": "text/x-python",
   "name": "python",
   "nbconvert_exporter": "python",
   "pygments_lexer": "ipython3",
   "version": "3.7.6"
  }
 },
 "nbformat": 4,
 "nbformat_minor": 4
}
