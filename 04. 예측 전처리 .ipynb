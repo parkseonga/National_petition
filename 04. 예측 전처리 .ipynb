{
 "cells": [
  {
   "cell_type": "code",
   "execution_count": 142,
   "metadata": {},
   "outputs": [],
   "source": [
    "import pandas as pd\n",
    "\n",
    "import warnings \n",
    "warnings.filterwarnings(\"ignore\")\n",
    "\n",
    "pd.set_option('display.max_columns',100)\n",
    "\n",
    "from PyKomoran import *\n",
    "\n",
    "komoran = Komoran(DEFAULT_MODEL['FULL'])\n",
    "komoran.set_user_dic('D:/petition/user_dic.dic')\n",
    "\n",
    "def komoran_tokenizer(sent,morphe):\n",
    "    stopwords = ['하다', ',', '들', '이', '..', '.', '것', '다', '이다', '~', '그', '그녀', '저', '...', '\"', '~~',\"것\", \"이\", \"안\",\"연합뉴스\", \"더\", \"왜\", \"때\", \"좀\", \"뭐\", \"거\", \"저\", \"뿐\", \"머\",\"청원\",\"오\",\"수\",\"년\",\"끼\",\"하\",'개']\n",
    "        \n",
    "    words = komoran.get_list(sent)\n",
    "    \n",
    "    if morphe=='noun':\n",
    "        words = [str(w) for w in words if ('/NN' in str(w))]\n",
    "    if morphe=='verb':\n",
    "        words = [str(w) for w in words if ('/VV' in str(w))]\n",
    "    if morphe=='adj':\n",
    "        words = [str(w) for w in words if ('/VA' in str(w))]\n",
    "\n",
    "    r = []\n",
    "    for w in [w.split(\"/\")[0] for w in words]:\n",
    "        if w not in stopwords:\n",
    "            r.append(w)\n",
    "    \n",
    "    return r\n"
   ]
  },
  {
   "cell_type": "code",
   "execution_count": 153,
   "metadata": {},
   "outputs": [
    {
     "data": {
      "text/html": [
       "<div>\n",
       "<style scoped>\n",
       "    .dataframe tbody tr th:only-of-type {\n",
       "        vertical-align: middle;\n",
       "    }\n",
       "\n",
       "    .dataframe tbody tr th {\n",
       "        vertical-align: top;\n",
       "    }\n",
       "\n",
       "    .dataframe thead th {\n",
       "        text-align: right;\n",
       "    }\n",
       "</style>\n",
       "<table border=\"1\" class=\"dataframe\">\n",
       "  <thead>\n",
       "    <tr style=\"text-align: right;\">\n",
       "      <th></th>\n",
       "      <th>disgust</th>\n",
       "      <th>sad</th>\n",
       "      <th>angry</th>\n",
       "      <th>fear</th>\n",
       "      <th>index</th>\n",
       "      <th>code</th>\n",
       "      <th>sdays</th>\n",
       "      <th>edays</th>\n",
       "      <th>title</th>\n",
       "      <th>count</th>\n",
       "      <th>content</th>\n",
       "      <th>category</th>\n",
       "      <th>progress</th>\n",
       "      <th>pre_content</th>\n",
       "      <th>prior_content</th>\n",
       "      <th>for_content</th>\n",
       "      <th>summary_content</th>\n",
       "      <th>summary_content_end</th>\n",
       "      <th>comment_token</th>\n",
       "      <th>check</th>\n",
       "      <th>emotion</th>\n",
       "    </tr>\n",
       "  </thead>\n",
       "  <tbody>\n",
       "    <tr>\n",
       "      <th>0</th>\n",
       "      <td>0.000000</td>\n",
       "      <td>0.75</td>\n",
       "      <td>0.250000</td>\n",
       "      <td>0.0</td>\n",
       "      <td>0</td>\n",
       "      <td>579353</td>\n",
       "      <td>2019-04-01</td>\n",
       "      <td>2019-05-01</td>\n",
       "      <td>“정부아이돌봄서비스 아이돌보미 영유아 폭행 강력 처벌 및 재발방지방안 수립을 부탁합...</td>\n",
       "      <td>281764.0</td>\n",
       "      <td>“정부아이돌봄서비스 아이돌보미 영유아 폭행 강력 처벌 및 재발방지방안 수립을 부탁합...</td>\n",
       "      <td>육아/교육</td>\n",
       "      <td>답변완료</td>\n",
       "      <td>“정부 아이돌봄서비스 아이돌보미 영유아 폭행 강력 처벌 및 재발방지 방안 수립을 부...</td>\n",
       "      <td>“정부 아이돌봄서비스 아이돌보미 영유아 폭행 강력 처벌 및 재발방지 방안 수립을 부...</td>\n",
       "      <td>”  저희는 정부에서 제공하는 아이돌봄서비스 이용 중입니다  금천구에 살면서 14개...</td>\n",
       "      <td>”  저희는 정부에서 제공하는 아이돌봄서비스 이용 중입니다  금천구에 살면서 14개...</td>\n",
       "      <td>“정부 아이돌봄서비스 아이돌보미 영유아 폭행 강력 처벌 및 재발방지 방안 수립을 부...</td>\n",
       "      <td>[정부, 아이돌봄, 서비스, 아이돌보미, 영유, 폭행, 강력, 처벌, 및, 재발, ...</td>\n",
       "      <td>[못되다, 먹다, 눈물, 죄]</td>\n",
       "      <td>sad</td>\n",
       "    </tr>\n",
       "    <tr>\n",
       "      <th>1</th>\n",
       "      <td>0.000000</td>\n",
       "      <td>0.00</td>\n",
       "      <td>1.000000</td>\n",
       "      <td>0.0</td>\n",
       "      <td>1</td>\n",
       "      <td>579401</td>\n",
       "      <td>2019-04-04</td>\n",
       "      <td>2019-05-04</td>\n",
       "      <td>연합뉴스에 국민혈세로 지급하는 연 300억원의 재정보조금 제도의 전면 폐지를 청원합니다.</td>\n",
       "      <td>364920.0</td>\n",
       "      <td>연합뉴스는 군사정권의 언론탄압이 극심했던 1980년 12월 출범한 이래로, 지속적인...</td>\n",
       "      <td>문화/예술/체육/언론</td>\n",
       "      <td>답변완료</td>\n",
       "      <td>연합뉴스는 군사정권의 언론탄압이 극심했던 1980년 12월 출범한 이래로 지속적인 ...</td>\n",
       "      <td>연합뉴스는 군사정권의 언론탄압이 극심했던 1980년 12월 출범한 이래로 지속적인 ...</td>\n",
       "      <td>뉴스 통신진흥에 관한 법률’에 의거하여 국가 기간뉴스통신사로 지정된 연합뉴스는 대...</td>\n",
       "      <td>뉴스 통신진흥에 관한 법률’에 의거하여 국가 기간뉴스통신사로 지정된 연합뉴스는 대...</td>\n",
       "      <td>연합뉴스는 군사정권의 언론탄압이 극심했던 1980년 12월 출범한 이래로 지속적인 ...</td>\n",
       "      <td>[군사정권, 언론, 탄압, 극심하다, 출범, 이렇다, 지속, 정부, 인사, 개입, ...</td>\n",
       "      <td>[못되다, 미치다]</td>\n",
       "      <td>angry</td>\n",
       "    </tr>\n",
       "    <tr>\n",
       "      <th>2</th>\n",
       "      <td>0.200000</td>\n",
       "      <td>0.20</td>\n",
       "      <td>0.600000</td>\n",
       "      <td>0.0</td>\n",
       "      <td>2</td>\n",
       "      <td>579426</td>\n",
       "      <td>2019-04-05</td>\n",
       "      <td>2019-05-05</td>\n",
       "      <td>소방공무원을 국가직으로 전환해주세요</td>\n",
       "      <td>380769.0</td>\n",
       "      <td>문재인 정부가 국정과제로 추진하고 있는 소방공무원 국가직화(化)가 국회 벽을 넘지 ...</td>\n",
       "      <td>안전/환경</td>\n",
       "      <td>답변완료</td>\n",
       "      <td>문재인 정부가 국정과제로 추진하고 있는 소방공무원 국가직화 化 가 국회 벽을 넘지 ...</td>\n",
       "      <td>문재인 정부가 국정과제로 추진하고 있는 소방공무원 국가직화 化 가 국회 벽을 넘지 ...</td>\n",
       "      <td>대통령부터 장관 국회의원까지 너 나 할 것 없이 국가직화를 통한 소방관 처우 개선...</td>\n",
       "      <td>대통령부터 장관 국회의원까지 너 나 할 것 없이 국가직화를 통한 소방관 처우 개선...</td>\n",
       "      <td>문재인 정부가 국정과제로 추진하고 있는 소방공무원 국가직화 化 가 국회 벽을 넘지 ...</td>\n",
       "      <td>[문재인, 정부, 국정, 과제, 추진, 있다, 소방, 공무원, 국가, 직화, 가다,...</td>\n",
       "      <td>[못되다, 처, 후, 후, 정]</td>\n",
       "      <td>angry</td>\n",
       "    </tr>\n",
       "    <tr>\n",
       "      <th>3</th>\n",
       "      <td>0.000000</td>\n",
       "      <td>0.00</td>\n",
       "      <td>1.000000</td>\n",
       "      <td>0.0</td>\n",
       "      <td>3</td>\n",
       "      <td>579523</td>\n",
       "      <td>2019-04-11</td>\n",
       "      <td>2019-05-11</td>\n",
       "      <td>버닝썬 VIP룸 6인을 수사해 주세요</td>\n",
       "      <td>213327.0</td>\n",
       "      <td>안녕하세요?세간을 떠들썩하게 하고 국민을 분노하게 했던,속칭 버닝썬 사건-이하 버닝...</td>\n",
       "      <td>기타</td>\n",
       "      <td>답변완료</td>\n",
       "      <td>세간을 떠들썩하게 하고 국민을 분노하게 했던 속칭 버닝 썬 사건 이하 버닝 썬 사...</td>\n",
       "      <td>세간을 떠들썩하게 하고 국민을 분노하게 했던 속칭 버닝 썬 사건 이하 버닝 썬 사...</td>\n",
       "      <td>현재 매체의 수사 관련들을 들여다보면 크게 두 가지 방향의 수사가 이루어지는 것 ...</td>\n",
       "      <td>현재 매체의 수사 관련들을 들여다보면 크게 두 가지 방향의 수사가 이루어지는 것 ...</td>\n",
       "      <td>세간을 떠들썩하게 하고 국민을 분노하게 했던 속칭 버닝 썬 사건 이하 버닝 썬 사...</td>\n",
       "      <td>[안녕하다, 세간, 떠들썩하다, 국민, 분노하다, 속칭, 버닝썬, 사건, 이하, 버...</td>\n",
       "      <td>[후]</td>\n",
       "      <td>angry</td>\n",
       "    </tr>\n",
       "    <tr>\n",
       "      <th>4</th>\n",
       "      <td>0.666667</td>\n",
       "      <td>0.00</td>\n",
       "      <td>0.333333</td>\n",
       "      <td>0.0</td>\n",
       "      <td>4</td>\n",
       "      <td>579585</td>\n",
       "      <td>2019-04-16</td>\n",
       "      <td>2019-05-16</td>\n",
       "      <td>**대 수의대에서 실험중인 퇴역 탐지견을 구조해주십시요</td>\n",
       "      <td>217249.0</td>\n",
       "      <td>안녕하십니까?(사)비글구조네트워크입니다오늘 2019년 4월 15일자 KBS 9시 뉴...</td>\n",
       "      <td>반려동물</td>\n",
       "      <td>답변완료</td>\n",
       "      <td>안녕하십니까 사 비글 구조 네트워크입니다 오늘 2019년 4월 15일 자 KBS 9...</td>\n",
       "      <td>안녕하십니까 사 비글 구조 네트워크입니다 오늘 2019년 4월 15일 자 KBS 9...</td>\n",
       "      <td>사 비글 구조 네트워크는 지난 1월에 이와 관련된 제보를 받고 3개월에 걸쳐 자체...</td>\n",
       "      <td>사 비글 구조 네트워크는 지난 1월에 이와 관련된 제보를 받고 3개월에 걸쳐 자체...</td>\n",
       "      <td>안녕하십니까 사 비글 구조 네트워크입니다 오늘 2019년 4월 15일 자 KBS 9...</td>\n",
       "      <td>[안녕하십니까, 사, 비글, 네트워크, 늘, 뉴스, 통해, 보도, 되다, 농림, 축...</td>\n",
       "      <td>[정떨어지다, 정떨어지다, 정]</td>\n",
       "      <td>disgust</td>\n",
       "    </tr>\n",
       "  </tbody>\n",
       "</table>\n",
       "</div>"
      ],
      "text/plain": [
       "    disgust   sad     angry  fear  index    code      sdays      edays  \\\n",
       "0  0.000000  0.75  0.250000   0.0      0  579353 2019-04-01 2019-05-01   \n",
       "1  0.000000  0.00  1.000000   0.0      1  579401 2019-04-04 2019-05-04   \n",
       "2  0.200000  0.20  0.600000   0.0      2  579426 2019-04-05 2019-05-05   \n",
       "3  0.000000  0.00  1.000000   0.0      3  579523 2019-04-11 2019-05-11   \n",
       "4  0.666667  0.00  0.333333   0.0      4  579585 2019-04-16 2019-05-16   \n",
       "\n",
       "                                               title     count  \\\n",
       "0  “정부아이돌봄서비스 아이돌보미 영유아 폭행 강력 처벌 및 재발방지방안 수립을 부탁합...  281764.0   \n",
       "1  연합뉴스에 국민혈세로 지급하는 연 300억원의 재정보조금 제도의 전면 폐지를 청원합니다.  364920.0   \n",
       "2                                소방공무원을 국가직으로 전환해주세요  380769.0   \n",
       "3                               버닝썬 VIP룸 6인을 수사해 주세요  213327.0   \n",
       "4                     **대 수의대에서 실험중인 퇴역 탐지견을 구조해주십시요  217249.0   \n",
       "\n",
       "                                             content     category progress  \\\n",
       "0  “정부아이돌봄서비스 아이돌보미 영유아 폭행 강력 처벌 및 재발방지방안 수립을 부탁합...        육아/교육    답변완료    \n",
       "1  연합뉴스는 군사정권의 언론탄압이 극심했던 1980년 12월 출범한 이래로, 지속적인...  문화/예술/체육/언론    답변완료    \n",
       "2  문재인 정부가 국정과제로 추진하고 있는 소방공무원 국가직화(化)가 국회 벽을 넘지 ...        안전/환경    답변완료    \n",
       "3  안녕하세요?세간을 떠들썩하게 하고 국민을 분노하게 했던,속칭 버닝썬 사건-이하 버닝...           기타    답변완료    \n",
       "4  안녕하십니까?(사)비글구조네트워크입니다오늘 2019년 4월 15일자 KBS 9시 뉴...         반려동물    답변완료    \n",
       "\n",
       "                                         pre_content  \\\n",
       "0  “정부 아이돌봄서비스 아이돌보미 영유아 폭행 강력 처벌 및 재발방지 방안 수립을 부...   \n",
       "1  연합뉴스는 군사정권의 언론탄압이 극심했던 1980년 12월 출범한 이래로 지속적인 ...   \n",
       "2  문재인 정부가 국정과제로 추진하고 있는 소방공무원 국가직화 化 가 국회 벽을 넘지 ...   \n",
       "3   세간을 떠들썩하게 하고 국민을 분노하게 했던 속칭 버닝 썬 사건 이하 버닝 썬 사...   \n",
       "4  안녕하십니까 사 비글 구조 네트워크입니다 오늘 2019년 4월 15일 자 KBS 9...   \n",
       "\n",
       "                                       prior_content  \\\n",
       "0  “정부 아이돌봄서비스 아이돌보미 영유아 폭행 강력 처벌 및 재발방지 방안 수립을 부...   \n",
       "1  연합뉴스는 군사정권의 언론탄압이 극심했던 1980년 12월 출범한 이래로 지속적인 ...   \n",
       "2  문재인 정부가 국정과제로 추진하고 있는 소방공무원 국가직화 化 가 국회 벽을 넘지 ...   \n",
       "3   세간을 떠들썩하게 하고 국민을 분노하게 했던 속칭 버닝 썬 사건 이하 버닝 썬 사...   \n",
       "4  안녕하십니까 사 비글 구조 네트워크입니다 오늘 2019년 4월 15일 자 KBS 9...   \n",
       "\n",
       "                                         for_content  \\\n",
       "0  ”  저희는 정부에서 제공하는 아이돌봄서비스 이용 중입니다  금천구에 살면서 14개...   \n",
       "1   뉴스 통신진흥에 관한 법률’에 의거하여 국가 기간뉴스통신사로 지정된 연합뉴스는 대...   \n",
       "2   대통령부터 장관 국회의원까지 너 나 할 것 없이 국가직화를 통한 소방관 처우 개선...   \n",
       "3   현재 매체의 수사 관련들을 들여다보면 크게 두 가지 방향의 수사가 이루어지는 것 ...   \n",
       "4   사 비글 구조 네트워크는 지난 1월에 이와 관련된 제보를 받고 3개월에 걸쳐 자체...   \n",
       "\n",
       "                                     summary_content  \\\n",
       "0  ”  저희는 정부에서 제공하는 아이돌봄서비스 이용 중입니다  금천구에 살면서 14개...   \n",
       "1   뉴스 통신진흥에 관한 법률’에 의거하여 국가 기간뉴스통신사로 지정된 연합뉴스는 대...   \n",
       "2   대통령부터 장관 국회의원까지 너 나 할 것 없이 국가직화를 통한 소방관 처우 개선...   \n",
       "3   현재 매체의 수사 관련들을 들여다보면 크게 두 가지 방향의 수사가 이루어지는 것 ...   \n",
       "4   사 비글 구조 네트워크는 지난 1월에 이와 관련된 제보를 받고 3개월에 걸쳐 자체...   \n",
       "\n",
       "                                 summary_content_end  \\\n",
       "0  “정부 아이돌봄서비스 아이돌보미 영유아 폭행 강력 처벌 및 재발방지 방안 수립을 부...   \n",
       "1  연합뉴스는 군사정권의 언론탄압이 극심했던 1980년 12월 출범한 이래로 지속적인 ...   \n",
       "2  문재인 정부가 국정과제로 추진하고 있는 소방공무원 국가직화 化 가 국회 벽을 넘지 ...   \n",
       "3   세간을 떠들썩하게 하고 국민을 분노하게 했던 속칭 버닝 썬 사건 이하 버닝 썬 사...   \n",
       "4  안녕하십니까 사 비글 구조 네트워크입니다 오늘 2019년 4월 15일 자 KBS 9...   \n",
       "\n",
       "                                       comment_token              check  \\\n",
       "0  [정부, 아이돌봄, 서비스, 아이돌보미, 영유, 폭행, 강력, 처벌, 및, 재발, ...   [못되다, 먹다, 눈물, 죄]   \n",
       "1  [군사정권, 언론, 탄압, 극심하다, 출범, 이렇다, 지속, 정부, 인사, 개입, ...         [못되다, 미치다]   \n",
       "2  [문재인, 정부, 국정, 과제, 추진, 있다, 소방, 공무원, 국가, 직화, 가다,...  [못되다, 처, 후, 후, 정]   \n",
       "3  [안녕하다, 세간, 떠들썩하다, 국민, 분노하다, 속칭, 버닝썬, 사건, 이하, 버...                [후]   \n",
       "4  [안녕하십니까, 사, 비글, 네트워크, 늘, 뉴스, 통해, 보도, 되다, 농림, 축...  [정떨어지다, 정떨어지다, 정]   \n",
       "\n",
       "   emotion  \n",
       "0      sad  \n",
       "1    angry  \n",
       "2    angry  \n",
       "3    angry  \n",
       "4  disgust  "
      ]
     },
     "execution_count": 153,
     "metadata": {},
     "output_type": "execute_result"
    }
   ],
   "source": [
    "emotion_data = emotion_comment_df = pd.read_pickle(\"../../petition/model/okt_comment_with_emo_over0.3.pkl\")\n",
    "emotion_data.head()"
   ]
  },
  {
   "cell_type": "code",
   "execution_count": 154,
   "metadata": {},
   "outputs": [
    {
     "data": {
      "text/plain": [
       "(17751, 16)"
      ]
     },
     "execution_count": 154,
     "metadata": {},
     "output_type": "execute_result"
    }
   ],
   "source": [
    "origin_data = pd.read_pickle(\"clean_data_for_sentiment_classification.pkl\")\n",
    "origin_data.shape"
   ]
  },
  {
   "cell_type": "code",
   "execution_count": 155,
   "metadata": {},
   "outputs": [],
   "source": [
    "final_data = pd.merge(origin_data, emotion_data[['code','emotion']], how = 'left', on = 'code')"
   ]
  },
  {
   "cell_type": "code",
   "execution_count": 156,
   "metadata": {},
   "outputs": [],
   "source": [
    "final_data['emotion'] = final_data['emotion'].fillna(\"dontknow\")"
   ]
  },
  {
   "cell_type": "code",
   "execution_count": 157,
   "metadata": {},
   "outputs": [],
   "source": [
    "final_data = final_data[['sdays','edays','code','title','count','content','category','progress','summary_content_end','emotion']]"
   ]
  },
  {
   "cell_type": "code",
   "execution_count": 158,
   "metadata": {},
   "outputs": [],
   "source": [
    "final_data['title_len'] = final_data['title'].map(lambda x: len(x))"
   ]
  },
  {
   "cell_type": "code",
   "execution_count": 159,
   "metadata": {},
   "outputs": [],
   "source": [
    "final_data['doc_len'] = final_data['content'].map(lambda x: len(x))"
   ]
  },
  {
   "cell_type": "code",
   "execution_count": 160,
   "metadata": {},
   "outputs": [
    {
     "data": {
      "text/plain": [
       "<AxesSubplot:xlabel='emotion', ylabel='title_len'>"
      ]
     },
     "execution_count": 160,
     "metadata": {},
     "output_type": "execute_result"
    },
    {
     "data": {
      "image/png": "[encoded data removed]",
      "text/plain": [
       "<Figure size 432x288 with 1 Axes>"
      ]
     },
     "metadata": {
      "needs_background": "light"
     },
     "output_type": "display_data"
    }
   ],
   "source": [
    "import seaborn as sns\n",
    "\n",
    "sns.barplot(final_data['emotion'], final_data['title_len'])"
   ]
  },
  {
   "cell_type": "code",
   "execution_count": 131,
   "metadata": {},
   "outputs": [
    {
     "data": {
      "text/plain": [
       "<AxesSubplot:xlabel='emotion', ylabel='doc_len'>"
      ]
     },
     "execution_count": 131,
     "metadata": {},
     "output_type": "execute_result"
    },
    {
     "data": {
      "image/png": "[encoded data removed]",
      "text/plain": [
       "<Figure size 432x288 with 1 Axes>"
      ]
     },
     "metadata": {
      "needs_background": "light"
     },
     "output_type": "display_data"
    }
   ],
   "source": [
    "sns.barplot(final_data['emotion'], final_data['doc_len'])"
   ]
  },
  {
   "cell_type": "code",
   "execution_count": 132,
   "metadata": {},
   "outputs": [
    {
     "data": {
      "text/plain": [
       "<AxesSubplot:xlabel='emotion', ylabel='count'>"
      ]
     },
     "execution_count": 132,
     "metadata": {},
     "output_type": "execute_result"
    },
    {
     "data": {
      "image/png": "[encoded data removed]",
      "text/plain": [
       "<Figure size 432x288 with 1 Axes>"
      ]
     },
     "metadata": {
      "needs_background": "light"
     },
     "output_type": "display_data"
    }
   ],
   "source": [
    "sns.barplot(final_data['emotion'], final_data['count'])"
   ]
  },
  {
   "cell_type": "code",
   "execution_count": 133,
   "metadata": {},
   "outputs": [
    {
     "data": {
      "text/plain": [
       "(17751, 10)"
      ]
     },
     "execution_count": 133,
     "metadata": {},
     "output_type": "execute_result"
    }
   ],
   "source": [
    "final_data['content_noun'] = [komoran_tokenizer(x, \"noun\") for x in final_data['content']]\n",
    "final_data['content_verb'] = [komoran_tokenizer(x, \"verb\") for x in final_data['content']]\n",
    "final_data['content_adj'] = [komoran_tokenizer(x, \"adj\") for x in final_data['content']]\n",
    "final_data.shape"
   ]
  },
  {
   "cell_type": "code",
   "execution_count": null,
   "metadata": {},
   "outputs": [],
   "source": [
    "# final_data.to_pickle('final_data_0429.pkl')"
   ]
  },
  {
   "cell_type": "code",
   "execution_count": 161,
   "metadata": {},
   "outputs": [],
   "source": [
    "data = pd.read_pickle(\"final_data_0429.pkl\")"
   ]
  },
  {
   "cell_type": "code",
   "execution_count": 162,
   "metadata": {},
   "outputs": [],
   "source": [
    "del data['emotion']"
   ]
  },
  {
   "cell_type": "code",
   "execution_count": 163,
   "metadata": {},
   "outputs": [],
   "source": [
    "final_data_end = pd.merge(data,final_data[['sdays','edays','code','emotion']], how = 'left', on = 'code')"
   ]
  },
  {
   "cell_type": "code",
   "execution_count": 164,
   "metadata": {
    "scrolled": true
   },
   "outputs": [
    {
     "data": {
      "text/html": [
       "<div>\n",
       "<style scoped>\n",
       "    .dataframe tbody tr th:only-of-type {\n",
       "        vertical-align: middle;\n",
       "    }\n",
       "\n",
       "    .dataframe tbody tr th {\n",
       "        vertical-align: top;\n",
       "    }\n",
       "\n",
       "    .dataframe thead th {\n",
       "        text-align: right;\n",
       "    }\n",
       "</style>\n",
       "<table border=\"1\" class=\"dataframe\">\n",
       "  <thead>\n",
       "    <tr style=\"text-align: right;\">\n",
       "      <th></th>\n",
       "      <th>code</th>\n",
       "      <th>title</th>\n",
       "      <th>count</th>\n",
       "      <th>content</th>\n",
       "      <th>category</th>\n",
       "      <th>progress</th>\n",
       "      <th>summary_content_end</th>\n",
       "      <th>title_len</th>\n",
       "      <th>doc_len</th>\n",
       "      <th>content_noun</th>\n",
       "      <th>content_verb</th>\n",
       "      <th>content_adj</th>\n",
       "      <th>sdays</th>\n",
       "      <th>edays</th>\n",
       "      <th>emotion</th>\n",
       "    </tr>\n",
       "  </thead>\n",
       "  <tbody>\n",
       "    <tr>\n",
       "      <th>0</th>\n",
       "      <td>579353</td>\n",
       "      <td>“정부아이돌봄서비스 아이돌보미 영유아 폭행 강력 처벌 및 재발방지방안 수립을 부탁합...</td>\n",
       "      <td>281764.0</td>\n",
       "      <td>“정부아이돌봄서비스 아이돌보미 영유아 폭행 강력 처벌 및 재발방지방안 수립을 부탁합...</td>\n",
       "      <td>육아/교육</td>\n",
       "      <td>답변완료</td>\n",
       "      <td>“정부 아이돌봄서비스 아이돌보미 영유아 폭행 강력 처벌 및 재발방지 방안 수립을 부...</td>\n",
       "      <td>80</td>\n",
       "      <td>1596</td>\n",
       "      <td>[정부, 아이돌봄, 서비스, 아이돌보미, 영유아, 폭행, 처벌, 재발, 방지, 방안...</td>\n",
       "      <td>[살, 키우, 있, 받, 믿, 되, 넘, 통하, 되, 통하, 바라, 때리, 울, 넣...</td>\n",
       "      <td>[없, 같, 그렇, 무섭, 늦, 수많, 많, 같, 비싸, 없, 이쁘, 많, 그렇, ...</td>\n",
       "      <td>2019-04-01</td>\n",
       "      <td>2019-05-01</td>\n",
       "      <td>sad</td>\n",
       "    </tr>\n",
       "    <tr>\n",
       "      <th>1</th>\n",
       "      <td>579401</td>\n",
       "      <td>연합뉴스에 국민혈세로 지급하는 연 300억원의 재정보조금 제도의 전면 폐지를 청원합니다.</td>\n",
       "      <td>364920.0</td>\n",
       "      <td>연합뉴스는 군사정권의 언론탄압이 극심했던 1980년 12월 출범한 이래로, 지속적인...</td>\n",
       "      <td>문화/예술/체육/언론</td>\n",
       "      <td>답변완료</td>\n",
       "      <td>연합뉴스는 군사정권의 언론탄압이 극심했던 1980년 12월 출범한 이래로 지속적인 ...</td>\n",
       "      <td>49</td>\n",
       "      <td>1075</td>\n",
       "      <td>[군사, 정권, 언론, 탄압, 12월, 출범, 이래, 지속, 정부, 인사, 개입, ...</td>\n",
       "      <td>[위하, 이르, 관하, 받, 미치, 되, 담기, 일삼, 있, 어긋나, 대하, 가로지...</td>\n",
       "      <td>[안타깝, 길, 많, 같, 없, 가쁘]</td>\n",
       "      <td>2019-04-04</td>\n",
       "      <td>2019-05-04</td>\n",
       "      <td>angry</td>\n",
       "    </tr>\n",
       "    <tr>\n",
       "      <th>2</th>\n",
       "      <td>579426</td>\n",
       "      <td>소방공무원을 국가직으로 전환해주세요</td>\n",
       "      <td>380769.0</td>\n",
       "      <td>문재인 정부가 국정과제로 추진하고 있는 소방공무원 국가직화(化)가 국회 벽을 넘지 ...</td>\n",
       "      <td>안전/환경</td>\n",
       "      <td>답변완료</td>\n",
       "      <td>문재인 정부가 국정과제로 추진하고 있는 소방공무원 국가직화 化 가 국회 벽을 넘지 ...</td>\n",
       "      <td>19</td>\n",
       "      <td>1585</td>\n",
       "      <td>[문재인, 정부, 국정, 제로, 추진, 소방, 공무원, 국가, 직, 국회, 벽, 좌...</td>\n",
       "      <td>[있, 넘, 처하, 통하, 외치, 따르, 위하, 두, 관하, 이르, 빠지, 따르, ...</td>\n",
       "      <td>[늦, 강하, 별다르, 늦, 없, 늦, 크, 멀, 크, 적, 적, 적, 적, 크, ...</td>\n",
       "      <td>2019-04-05</td>\n",
       "      <td>2019-05-05</td>\n",
       "      <td>angry</td>\n",
       "    </tr>\n",
       "    <tr>\n",
       "      <th>3</th>\n",
       "      <td>579523</td>\n",
       "      <td>버닝썬 VIP룸 6인을 수사해 주세요</td>\n",
       "      <td>213327.0</td>\n",
       "      <td>안녕하세요?세간을 떠들썩하게 하고 국민을 분노하게 했던,속칭 버닝썬 사건-이하 버닝...</td>\n",
       "      <td>기타</td>\n",
       "      <td>답변완료</td>\n",
       "      <td>세간을 떠들썩하게 하고 국민을 분노하게 했던 속칭 버닝 썬 사건 이하 버닝 썬 사...</td>\n",
       "      <td>20</td>\n",
       "      <td>870</td>\n",
       "      <td>[안녕하세요, 세간, 국민, 분노, 속칭, 사건, 이하, 사건, 수사, 글, 현재,...</td>\n",
       "      <td>[대하, 올리, 들이, 보, 이루어지, 관하, 대하, 있, 보이, 있, 통하, 알리...</td>\n",
       "      <td>[적, 크, 같, 없, 없, 없, 이렇]</td>\n",
       "      <td>2019-04-11</td>\n",
       "      <td>2019-05-11</td>\n",
       "      <td>angry</td>\n",
       "    </tr>\n",
       "    <tr>\n",
       "      <th>4</th>\n",
       "      <td>579585</td>\n",
       "      <td>**대 수의대에서 실험중인 퇴역 탐지견을 구조해주십시요</td>\n",
       "      <td>217249.0</td>\n",
       "      <td>안녕하십니까?(사)비글구조네트워크입니다오늘 2019년 4월 15일자 KBS 9시 뉴...</td>\n",
       "      <td>반려동물</td>\n",
       "      <td>답변완료</td>\n",
       "      <td>안녕하십니까 사 비글 구조 네트워크입니다 오늘 2019년 4월 15일 자 KBS 9...</td>\n",
       "      <td>30</td>\n",
       "      <td>1462</td>\n",
       "      <td>[안녕하십니까, 사, 비글, 구조, 네트워크, 입, 니다, 오늘, 4월 15일, 자...</td>\n",
       "      <td>[통하, 대하, 되, 지나, 받, 걸치, 드리, 살, 알리, 위하, 있, 정하, 떠...</td>\n",
       "      <td>[어떻, 없, 크, 없]</td>\n",
       "      <td>2019-04-16</td>\n",
       "      <td>2019-05-16</td>\n",
       "      <td>disgust</td>\n",
       "    </tr>\n",
       "  </tbody>\n",
       "</table>\n",
       "</div>"
      ],
      "text/plain": [
       "     code                                              title     count  \\\n",
       "0  579353  “정부아이돌봄서비스 아이돌보미 영유아 폭행 강력 처벌 및 재발방지방안 수립을 부탁합...  281764.0   \n",
       "1  579401  연합뉴스에 국민혈세로 지급하는 연 300억원의 재정보조금 제도의 전면 폐지를 청원합니다.  364920.0   \n",
       "2  579426                                소방공무원을 국가직으로 전환해주세요  380769.0   \n",
       "3  579523                               버닝썬 VIP룸 6인을 수사해 주세요  213327.0   \n",
       "4  579585                     **대 수의대에서 실험중인 퇴역 탐지견을 구조해주십시요  217249.0   \n",
       "\n",
       "                                             content     category progress  \\\n",
       "0  “정부아이돌봄서비스 아이돌보미 영유아 폭행 강력 처벌 및 재발방지방안 수립을 부탁합...        육아/교육    답변완료    \n",
       "1  연합뉴스는 군사정권의 언론탄압이 극심했던 1980년 12월 출범한 이래로, 지속적인...  문화/예술/체육/언론    답변완료    \n",
       "2  문재인 정부가 국정과제로 추진하고 있는 소방공무원 국가직화(化)가 국회 벽을 넘지 ...        안전/환경    답변완료    \n",
       "3  안녕하세요?세간을 떠들썩하게 하고 국민을 분노하게 했던,속칭 버닝썬 사건-이하 버닝...           기타    답변완료    \n",
       "4  안녕하십니까?(사)비글구조네트워크입니다오늘 2019년 4월 15일자 KBS 9시 뉴...         반려동물    답변완료    \n",
       "\n",
       "                                 summary_content_end  title_len  doc_len  \\\n",
       "0  “정부 아이돌봄서비스 아이돌보미 영유아 폭행 강력 처벌 및 재발방지 방안 수립을 부...         80     1596   \n",
       "1  연합뉴스는 군사정권의 언론탄압이 극심했던 1980년 12월 출범한 이래로 지속적인 ...         49     1075   \n",
       "2  문재인 정부가 국정과제로 추진하고 있는 소방공무원 국가직화 化 가 국회 벽을 넘지 ...         19     1585   \n",
       "3   세간을 떠들썩하게 하고 국민을 분노하게 했던 속칭 버닝 썬 사건 이하 버닝 썬 사...         20      870   \n",
       "4  안녕하십니까 사 비글 구조 네트워크입니다 오늘 2019년 4월 15일 자 KBS 9...         30     1462   \n",
       "\n",
       "                                        content_noun  \\\n",
       "0  [정부, 아이돌봄, 서비스, 아이돌보미, 영유아, 폭행, 처벌, 재발, 방지, 방안...   \n",
       "1  [군사, 정권, 언론, 탄압, 12월, 출범, 이래, 지속, 정부, 인사, 개입, ...   \n",
       "2  [문재인, 정부, 국정, 제로, 추진, 소방, 공무원, 국가, 직, 국회, 벽, 좌...   \n",
       "3  [안녕하세요, 세간, 국민, 분노, 속칭, 사건, 이하, 사건, 수사, 글, 현재,...   \n",
       "4  [안녕하십니까, 사, 비글, 구조, 네트워크, 입, 니다, 오늘, 4월 15일, 자...   \n",
       "\n",
       "                                        content_verb  \\\n",
       "0  [살, 키우, 있, 받, 믿, 되, 넘, 통하, 되, 통하, 바라, 때리, 울, 넣...   \n",
       "1  [위하, 이르, 관하, 받, 미치, 되, 담기, 일삼, 있, 어긋나, 대하, 가로지...   \n",
       "2  [있, 넘, 처하, 통하, 외치, 따르, 위하, 두, 관하, 이르, 빠지, 따르, ...   \n",
       "3  [대하, 올리, 들이, 보, 이루어지, 관하, 대하, 있, 보이, 있, 통하, 알리...   \n",
       "4  [통하, 대하, 되, 지나, 받, 걸치, 드리, 살, 알리, 위하, 있, 정하, 떠...   \n",
       "\n",
       "                                         content_adj      sdays      edays  \\\n",
       "0  [없, 같, 그렇, 무섭, 늦, 수많, 많, 같, 비싸, 없, 이쁘, 많, 그렇, ... 2019-04-01 2019-05-01   \n",
       "1                              [안타깝, 길, 많, 같, 없, 가쁘] 2019-04-04 2019-05-04   \n",
       "2  [늦, 강하, 별다르, 늦, 없, 늦, 크, 멀, 크, 적, 적, 적, 적, 크, ... 2019-04-05 2019-05-05   \n",
       "3                             [적, 크, 같, 없, 없, 없, 이렇] 2019-04-11 2019-05-11   \n",
       "4                                      [어떻, 없, 크, 없] 2019-04-16 2019-05-16   \n",
       "\n",
       "   emotion  \n",
       "0      sad  \n",
       "1    angry  \n",
       "2    angry  \n",
       "3    angry  \n",
       "4  disgust  "
      ]
     },
     "execution_count": 164,
     "metadata": {},
     "output_type": "execute_result"
    }
   ],
   "source": [
    "final_data_end.head()"
   ]
  },
  {
   "cell_type": "code",
   "execution_count": 165,
   "metadata": {},
   "outputs": [],
   "source": [
    "final_data_end['title_token'] = [komoran_tokenizer(x, \"noun\") for x in final_data_end['title']]"
   ]
  },
  {
   "cell_type": "code",
   "execution_count": 166,
   "metadata": {},
   "outputs": [],
   "source": [
    "final_data_end['total_token'] = final_data_end['title_token'] + final_data_end['content_noun']\n",
    "\n",
    "# get test docs into a list\n",
    "docs_test = final_data_end['total_token'].tolist()\n",
    "docs_lst = [' '.join(x) for x in docs_test]"
   ]
  },
  {
   "cell_type": "code",
   "execution_count": 167,
   "metadata": {},
   "outputs": [],
   "source": [
    "from sklearn.feature_extraction.text import CountVectorizer\n",
    "\n",
    "cv = CountVectorizer(max_df=0.85,stop_words=['지금',\"요약\",\"인지\",\"다기\",\"부분\",\"드리\",\"일부\",\"기간\",\"가져오\",\"대통령\",\"청원\",\"해주\",\"통하\",\"후에\",\"지내\",\"줄이\",\"이나\",\"위하\",\"등등\",\"시키\",\"나오\",'따르','인해','때문','문제','당장','청원','청와대'],max_features=10000)\n",
    "word_count_vector = cv.fit_transform(docs_lst)"
   ]
  },
  {
   "cell_type": "code",
   "execution_count": 168,
   "metadata": {},
   "outputs": [],
   "source": [
    "from sklearn.feature_extraction.text import TfidfTransformer\n",
    "import numpy as np\n",
    "\n",
    "tfidf = TfidfTransformer(smooth_idf=True,use_idf=True)\n",
    "tfidf_matrix = tfidf.fit(word_count_vector)\n",
    "feature_names = cv.get_feature_names()\n"
   ]
  },
  {
   "cell_type": "code",
   "execution_count": 169,
   "metadata": {},
   "outputs": [],
   "source": [
    "def sort_coo(coo_matrix):\n",
    "    tuples = zip(coo_matrix.col, coo_matrix.data)\n",
    "    return sorted(tuples, key=lambda x: (x[1], x[0]), reverse=True)\n",
    "\n",
    "\n",
    "def extract_topn_from_vector(feature_names, sorted_items, topn=10):\n",
    "    \"\"\"get the feature names and tf-idf score of top n items\"\"\"\n",
    "    \n",
    "    #use only topn items from vector\n",
    "    sorted_items = sorted_items[:topn]\n",
    "\n",
    "    score_vals = []\n",
    "    feature_vals = []\n",
    "    \n",
    "    # word index and corresponding tf-idf score\n",
    "    for idx, score in sorted_items:\n",
    "        \n",
    "        #keep track of feature name and its corresponding score\n",
    "        score_vals.append(round(score, 3))\n",
    "        feature_vals.append(feature_names[idx])\n",
    "\n",
    "    #create a tuples of feature,score\n",
    "    #results = zip(feature_vals,score_vals)\n",
    "    results= {}\n",
    "    for idx in range(len(feature_vals)):\n",
    "        results[feature_vals[idx]]=score_vals[idx]\n",
    "    \n",
    "    return results"
   ]
  },
  {
   "cell_type": "code",
   "execution_count": 170,
   "metadata": {},
   "outputs": [],
   "source": [
    "keyword_lst = []\n",
    "for doc in docs_test:\n",
    "    \n",
    "    tf_idf_vector=tfidf.transform(cv.transform([' '.join(doc)]))\n",
    "    sorted_items=sort_coo(tf_idf_vector.tocoo())\n",
    "\n",
    "    keyword_lst.append(extract_topn_from_vector(feature_names,sorted_items,10))"
   ]
  },
  {
   "cell_type": "code",
   "execution_count": 171,
   "metadata": {},
   "outputs": [
    {
     "data": {
      "text/plain": [
       "17751"
      ]
     },
     "execution_count": 171,
     "metadata": {},
     "output_type": "execute_result"
    }
   ],
   "source": [
    "len(keyword_lst)"
   ]
  },
  {
   "cell_type": "code",
   "execution_count": 172,
   "metadata": {},
   "outputs": [],
   "source": [
    "final_data_end['top_keyword'] = keyword_lst"
   ]
  },
  {
   "cell_type": "code",
   "execution_count": 173,
   "metadata": {},
   "outputs": [],
   "source": [
    "final_data_end['count_noun'] = final_data_end['content_noun'].map(lambda x: len(x))\n",
    "final_data_end['count_verb'] = final_data_end['content_verb'].map(lambda x: len(x))\n",
    "final_data_end['count_adj'] = final_data_end['content_adj'].map(lambda x: len(x))"
   ]
  },
  {
   "cell_type": "code",
   "execution_count": 174,
   "metadata": {},
   "outputs": [],
   "source": [
    "final_data_end['target'] = final_data_end['count'].map(lambda x: 1 if x >=200000 else 0)"
   ]
  },
  {
   "cell_type": "code",
   "execution_count": 175,
   "metadata": {},
   "outputs": [
    {
     "data": {
      "text/plain": [
       "0    17611\n",
       "1      140\n",
       "Name: target, dtype: int64"
      ]
     },
     "execution_count": 175,
     "metadata": {},
     "output_type": "execute_result"
    }
   ],
   "source": [
    "final_data_end['target'].value_counts()"
   ]
  },
  {
   "cell_type": "code",
   "execution_count": 176,
   "metadata": {},
   "outputs": [
    {
     "data": {
      "text/plain": [
       "<AxesSubplot:xlabel='target', ylabel='count_noun'>"
      ]
     },
     "execution_count": 176,
     "metadata": {},
     "output_type": "execute_result"
    },
    {
     "data": {
      "image/png": "[encoded data removed]",
      "text/plain": [
       "<Figure size 432x288 with 1 Axes>"
      ]
     },
     "metadata": {
      "needs_background": "light"
     },
     "output_type": "display_data"
    }
   ],
   "source": [
    "import seaborn as sns\n",
    "sns.barplot(final_data_end['target'], final_data_end['count_noun'])"
   ]
  },
  {
   "cell_type": "code",
   "execution_count": 177,
   "metadata": {},
   "outputs": [
    {
     "data": {
      "text/plain": [
       "<AxesSubplot:xlabel='target', ylabel='count_verb'>"
      ]
     },
     "execution_count": 177,
     "metadata": {},
     "output_type": "execute_result"
    },
    {
     "data": {
      "image/png": "[encoded data removed]",
      "text/plain": [
       "<Figure size 432x288 with 1 Axes>"
      ]
     },
     "metadata": {
      "needs_background": "light"
     },
     "output_type": "display_data"
    }
   ],
   "source": [
    "sns.barplot(final_data_end['target'], final_data_end['count_verb'])"
   ]
  },
  {
   "cell_type": "code",
   "execution_count": 178,
   "metadata": {},
   "outputs": [
    {
     "data": {
      "text/plain": [
       "<AxesSubplot:xlabel='target', ylabel='count_adj'>"
      ]
     },
     "execution_count": 178,
     "metadata": {},
     "output_type": "execute_result"
    },
    {
     "data": {
      "image/png": "[encoded data removed]",
      "text/plain": [
       "<Figure size 432x288 with 1 Axes>"
      ]
     },
     "metadata": {
      "needs_background": "light"
     },
     "output_type": "display_data"
    }
   ],
   "source": [
    "sns.barplot(final_data_end['target'], final_data_end['count_adj'])"
   ]
  },
  {
   "cell_type": "code",
   "execution_count": 179,
   "metadata": {},
   "outputs": [],
   "source": [
    "# final_data_end.to_pickle(\"final_data_end_0429.pkl\")"
   ]
  },
  {
   "cell_type": "code",
   "execution_count": 180,
   "metadata": {},
   "outputs": [
    {
     "data": {
      "text/html": [
       "<div>\n",
       "<style scoped>\n",
       "    .dataframe tbody tr th:only-of-type {\n",
       "        vertical-align: middle;\n",
       "    }\n",
       "\n",
       "    .dataframe tbody tr th {\n",
       "        vertical-align: top;\n",
       "    }\n",
       "\n",
       "    .dataframe thead th {\n",
       "        text-align: right;\n",
       "    }\n",
       "</style>\n",
       "<table border=\"1\" class=\"dataframe\">\n",
       "  <thead>\n",
       "    <tr style=\"text-align: right;\">\n",
       "      <th></th>\n",
       "      <th>code</th>\n",
       "      <th>title</th>\n",
       "      <th>count</th>\n",
       "      <th>content</th>\n",
       "      <th>category</th>\n",
       "      <th>progress</th>\n",
       "      <th>summary_content_end</th>\n",
       "      <th>title_len</th>\n",
       "      <th>doc_len</th>\n",
       "      <th>content_noun</th>\n",
       "      <th>content_verb</th>\n",
       "      <th>content_adj</th>\n",
       "      <th>sdays</th>\n",
       "      <th>edays</th>\n",
       "      <th>emotion</th>\n",
       "      <th>title_token</th>\n",
       "      <th>total_token</th>\n",
       "      <th>top_keyword</th>\n",
       "      <th>count_noun</th>\n",
       "      <th>count_verb</th>\n",
       "      <th>count_adj</th>\n",
       "      <th>target</th>\n",
       "    </tr>\n",
       "  </thead>\n",
       "  <tbody>\n",
       "    <tr>\n",
       "      <th>0</th>\n",
       "      <td>579353</td>\n",
       "      <td>“정부아이돌봄서비스 아이돌보미 영유아 폭행 강력 처벌 및 재발방지방안 수립을 부탁합...</td>\n",
       "      <td>281764.0</td>\n",
       "      <td>“정부아이돌봄서비스 아이돌보미 영유아 폭행 강력 처벌 및 재발방지방안 수립을 부탁합...</td>\n",
       "      <td>육아/교육</td>\n",
       "      <td>답변완료</td>\n",
       "      <td>“정부 아이돌봄서비스 아이돌보미 영유아 폭행 강력 처벌 및 재발방지 방안 수립을 부...</td>\n",
       "      <td>80</td>\n",
       "      <td>1596</td>\n",
       "      <td>[정부, 아이돌봄, 서비스, 아이돌보미, 영유아, 폭행, 처벌, 재발, 방지, 방안...</td>\n",
       "      <td>[살, 키우, 있, 받, 믿, 되, 넘, 통하, 되, 통하, 바라, 때리, 울, 넣...</td>\n",
       "      <td>[없, 같, 그렇, 무섭, 늦, 수많, 많, 같, 비싸, 없, 이쁘, 많, 그렇, ...</td>\n",
       "      <td>2019-04-01</td>\n",
       "      <td>2019-05-01</td>\n",
       "      <td>sad</td>\n",
       "      <td>[정부, 아이돌봄, 서비스, 아이돌보미, 영유아, 폭행, 처벌, 재발, 방지, 방안...</td>\n",
       "      <td>[정부, 아이돌봄, 서비스, 아이돌보미, 영유아, 폭행, 처벌, 재발, 방지, 방안...</td>\n",
       "      <td>{'아이돌봄': 0.495, '서비스': 0.319, '부부': 0.301, '아이...</td>\n",
       "      <td>247</td>\n",
       "      <td>54</td>\n",
       "      <td>18</td>\n",
       "      <td>1</td>\n",
       "    </tr>\n",
       "    <tr>\n",
       "      <th>1</th>\n",
       "      <td>579401</td>\n",
       "      <td>연합뉴스에 국민혈세로 지급하는 연 300억원의 재정보조금 제도의 전면 폐지를 청원합니다.</td>\n",
       "      <td>364920.0</td>\n",
       "      <td>연합뉴스는 군사정권의 언론탄압이 극심했던 1980년 12월 출범한 이래로, 지속적인...</td>\n",
       "      <td>문화/예술/체육/언론</td>\n",
       "      <td>답변완료</td>\n",
       "      <td>연합뉴스는 군사정권의 언론탄압이 극심했던 1980년 12월 출범한 이래로 지속적인 ...</td>\n",
       "      <td>49</td>\n",
       "      <td>1075</td>\n",
       "      <td>[군사, 정권, 언론, 탄압, 12월, 출범, 이래, 지속, 정부, 인사, 개입, ...</td>\n",
       "      <td>[위하, 이르, 관하, 받, 미치, 되, 담기, 일삼, 있, 어긋나, 대하, 가로지...</td>\n",
       "      <td>[안타깝, 길, 많, 같, 없, 가쁘]</td>\n",
       "      <td>2019-04-04</td>\n",
       "      <td>2019-05-04</td>\n",
       "      <td>angry</td>\n",
       "      <td>[국민, 혈세, 지급, 원, 재정, 보조금, 제도, 전면, 폐지]</td>\n",
       "      <td>[국민, 혈세, 지급, 원, 재정, 보조금, 제도, 전면, 폐지, 군사, 정권, 언...</td>\n",
       "      <td>{'뉴스': 0.371, '공정': 0.334, '탄압': 0.212, '언론': ...</td>\n",
       "      <td>184</td>\n",
       "      <td>15</td>\n",
       "      <td>6</td>\n",
       "      <td>1</td>\n",
       "    </tr>\n",
       "    <tr>\n",
       "      <th>2</th>\n",
       "      <td>579426</td>\n",
       "      <td>소방공무원을 국가직으로 전환해주세요</td>\n",
       "      <td>380769.0</td>\n",
       "      <td>문재인 정부가 국정과제로 추진하고 있는 소방공무원 국가직화(化)가 국회 벽을 넘지 ...</td>\n",
       "      <td>안전/환경</td>\n",
       "      <td>답변완료</td>\n",
       "      <td>문재인 정부가 국정과제로 추진하고 있는 소방공무원 국가직화 化 가 국회 벽을 넘지 ...</td>\n",
       "      <td>19</td>\n",
       "      <td>1585</td>\n",
       "      <td>[문재인, 정부, 국정, 제로, 추진, 소방, 공무원, 국가, 직, 국회, 벽, 좌...</td>\n",
       "      <td>[있, 넘, 처하, 통하, 외치, 따르, 위하, 두, 관하, 이르, 빠지, 따르, ...</td>\n",
       "      <td>[늦, 강하, 별다르, 늦, 없, 늦, 크, 멀, 크, 적, 적, 적, 적, 크, ...</td>\n",
       "      <td>2019-04-05</td>\n",
       "      <td>2019-05-05</td>\n",
       "      <td>angry</td>\n",
       "      <td>[소방, 공무원, 국가, 직, 전환]</td>\n",
       "      <td>[소방, 공무원, 국가, 직, 전환, 문재인, 정부, 국정, 제로, 추진, 소방, ...</td>\n",
       "      <td>{'소방': 0.58, '국가': 0.344, '소방관': 0.327, '국회': ...</td>\n",
       "      <td>319</td>\n",
       "      <td>37</td>\n",
       "      <td>17</td>\n",
       "      <td>1</td>\n",
       "    </tr>\n",
       "    <tr>\n",
       "      <th>3</th>\n",
       "      <td>579523</td>\n",
       "      <td>버닝썬 VIP룸 6인을 수사해 주세요</td>\n",
       "      <td>213327.0</td>\n",
       "      <td>안녕하세요?세간을 떠들썩하게 하고 국민을 분노하게 했던,속칭 버닝썬 사건-이하 버닝...</td>\n",
       "      <td>기타</td>\n",
       "      <td>답변완료</td>\n",
       "      <td>세간을 떠들썩하게 하고 국민을 분노하게 했던 속칭 버닝 썬 사건 이하 버닝 썬 사...</td>\n",
       "      <td>20</td>\n",
       "      <td>870</td>\n",
       "      <td>[안녕하세요, 세간, 국민, 분노, 속칭, 사건, 이하, 사건, 수사, 글, 현재,...</td>\n",
       "      <td>[대하, 올리, 들이, 보, 이루어지, 관하, 대하, 있, 보이, 있, 통하, 알리...</td>\n",
       "      <td>[적, 크, 같, 없, 없, 없, 이렇]</td>\n",
       "      <td>2019-04-11</td>\n",
       "      <td>2019-05-11</td>\n",
       "      <td>angry</td>\n",
       "      <td>[룸, 인, 수사]</td>\n",
       "      <td>[룸, 인, 수사, 안녕하세요, 세간, 국민, 분노, 속칭, 사건, 이하, 사건, ...</td>\n",
       "      <td>{'수사': 0.622, '검경': 0.326, '속칭': 0.23, '조사': 0...</td>\n",
       "      <td>122</td>\n",
       "      <td>33</td>\n",
       "      <td>7</td>\n",
       "      <td>1</td>\n",
       "    </tr>\n",
       "    <tr>\n",
       "      <th>4</th>\n",
       "      <td>579585</td>\n",
       "      <td>**대 수의대에서 실험중인 퇴역 탐지견을 구조해주십시요</td>\n",
       "      <td>217249.0</td>\n",
       "      <td>안녕하십니까?(사)비글구조네트워크입니다오늘 2019년 4월 15일자 KBS 9시 뉴...</td>\n",
       "      <td>반려동물</td>\n",
       "      <td>답변완료</td>\n",
       "      <td>안녕하십니까 사 비글 구조 네트워크입니다 오늘 2019년 4월 15일 자 KBS 9...</td>\n",
       "      <td>30</td>\n",
       "      <td>1462</td>\n",
       "      <td>[안녕하십니까, 사, 비글, 구조, 네트워크, 입, 니다, 오늘, 4월 15일, 자...</td>\n",
       "      <td>[통하, 대하, 되, 지나, 받, 걸치, 드리, 살, 알리, 위하, 있, 정하, 떠...</td>\n",
       "      <td>[어떻, 없, 크, 없]</td>\n",
       "      <td>2019-04-16</td>\n",
       "      <td>2019-05-16</td>\n",
       "      <td>disgust</td>\n",
       "      <td>[대, 수의대, 실험, 중인, 퇴역, 탐지견, 구조]</td>\n",
       "      <td>[대, 수의대, 실험, 중인, 퇴역, 탐지견, 구조, 안녕하십니까, 사, 비글, 구...</td>\n",
       "      <td>{'실험': 0.367, '복제': 0.358, '네트워크': 0.276, '검역'...</td>\n",
       "      <td>267</td>\n",
       "      <td>39</td>\n",
       "      <td>4</td>\n",
       "      <td>1</td>\n",
       "    </tr>\n",
       "    <tr>\n",
       "      <th>...</th>\n",
       "      <td>...</td>\n",
       "      <td>...</td>\n",
       "      <td>...</td>\n",
       "      <td>...</td>\n",
       "      <td>...</td>\n",
       "      <td>...</td>\n",
       "      <td>...</td>\n",
       "      <td>...</td>\n",
       "      <td>...</td>\n",
       "      <td>...</td>\n",
       "      <td>...</td>\n",
       "      <td>...</td>\n",
       "      <td>...</td>\n",
       "      <td>...</td>\n",
       "      <td>...</td>\n",
       "      <td>...</td>\n",
       "      <td>...</td>\n",
       "      <td>...</td>\n",
       "      <td>...</td>\n",
       "      <td>...</td>\n",
       "      <td>...</td>\n",
       "      <td>...</td>\n",
       "    </tr>\n",
       "    <tr>\n",
       "      <th>17746</th>\n",
       "      <td>597284</td>\n",
       "      <td>보육교사 월1회 코로나검사에대해 반대합니다!</td>\n",
       "      <td>91910.0</td>\n",
       "      <td>['저는 어린이집에서 근무하는 보육교사입니다길어지고 끝이안보이는 코로나로인해 모든국...</td>\n",
       "      <td>인권/성평등</td>\n",
       "      <td>청원진행중</td>\n",
       "      <td>저는 어린이집에서 근무하는 보육교사입니다 길어지고 끝이 안 보이는 코로나로 인해 ...</td>\n",
       "      <td>24</td>\n",
       "      <td>819</td>\n",
       "      <td>[어린이집, 근무, 보육, 교사, 끝, 이안, 보이, 코로, 나로, 인해, 국민, ...</td>\n",
       "      <td>[지치, 보, 빠지, 마치, 마치, 지내, 보내, 있, 그러, 걸리, 되, 허, 있...</td>\n",
       "      <td>[길, 좋, 크, 많, 같, 많, 많, 많, 같, 싫]</td>\n",
       "      <td>2021-03-30</td>\n",
       "      <td>2021-04-29</td>\n",
       "      <td>angry</td>\n",
       "      <td>[보육, 교사, 월, 회, 코로나, 검사, 반대]</td>\n",
       "      <td>[보육, 교사, 월, 회, 코로나, 검사, 반대, 어린이집, 근무, 보육, 교사, ...</td>\n",
       "      <td>{'보육': 0.552, '교사': 0.454, '검사': 0.374, '어린이집'...</td>\n",
       "      <td>150</td>\n",
       "      <td>29</td>\n",
       "      <td>10</td>\n",
       "      <td>0</td>\n",
       "    </tr>\n",
       "    <tr>\n",
       "      <th>17747</th>\n",
       "      <td>597285</td>\n",
       "      <td>사람 목숨을 가지고 장난치는 악덕업자를 구속하여 주세요.......</td>\n",
       "      <td>1263.0</td>\n",
       "      <td>['저는  서해바다에서 구조대 로써 17년간 활동하고 있는 구조대원 입니다,정말 분...</td>\n",
       "      <td>기타</td>\n",
       "      <td>청원진행중</td>\n",
       "      <td>저는 서해바다에서 구조대 로써 17년간 활동하고 있는 구조대원입니다 정말 분하고 ...</td>\n",
       "      <td>37</td>\n",
       "      <td>1594</td>\n",
       "      <td>[서해, 바다, 구조대, 17년, 간, 활동, 구조, 대원, 정말, 참, 국민, 대...</td>\n",
       "      <td>[있, 치, 만들, 되, 올리, 있, 있, 있, 계시, 받, 보내, 보, 있, 믿,...</td>\n",
       "      <td>[분하, 없, 없, 없, 없, 그렇, 멀, 없, 없, 심하, 심하, 없, 없, 그렇...</td>\n",
       "      <td>2021-03-30</td>\n",
       "      <td>2021-04-29</td>\n",
       "      <td>angry</td>\n",
       "      <td>[사람, 목숨, 악덕, 업자, 구속]</td>\n",
       "      <td>[사람, 목숨, 악덕, 업자, 구속, 서해, 바다, 구조대, 17년, 간, 활동, ...</td>\n",
       "      <td>{'엔진': 0.477, '수리': 0.393, '업자': 0.287, '바다': ...</td>\n",
       "      <td>254</td>\n",
       "      <td>55</td>\n",
       "      <td>22</td>\n",
       "      <td>0</td>\n",
       "    </tr>\n",
       "    <tr>\n",
       "      <th>17748</th>\n",
       "      <td>597286</td>\n",
       "      <td>4차재난지원금 소상공인 버팀목자금 플러스</td>\n",
       "      <td>2767.0</td>\n",
       "      <td>['왜 4차재난지원금에 19년대비 20년도 매출을 고집하시나요영업제한으로 피해를 본...</td>\n",
       "      <td>기타</td>\n",
       "      <td>청원진행중</td>\n",
       "      <td>왜 4차 재난지원금에 19년 대비 20년도 매출을 고집하시나요 영업제한으로 피해를...</td>\n",
       "      <td>22</td>\n",
       "      <td>106</td>\n",
       "      <td>[차, 재난, 지원금, 19년, 대비, 년대, 매출, 고집, 하시나, 요, 영업, ...</td>\n",
       "      <td>[지키, 나]</td>\n",
       "      <td>[]</td>\n",
       "      <td>2021-03-30</td>\n",
       "      <td>2021-04-29</td>\n",
       "      <td>dontknow</td>\n",
       "      <td>[차, 재난, 지원금, 소상공인, 버팀목, 자금, 플러스]</td>\n",
       "      <td>[차, 재난, 지원금, 소상공인, 버팀목, 자금, 플러스, 차, 재난, 지원금, 1...</td>\n",
       "      <td>{'영업': 0.422, '년대': 0.306, '지원금': 0.299, '재난':...</td>\n",
       "      <td>25</td>\n",
       "      <td>2</td>\n",
       "      <td>0</td>\n",
       "      <td>0</td>\n",
       "    </tr>\n",
       "    <tr>\n",
       "      <th>17749</th>\n",
       "      <td>597287</td>\n",
       "      <td>백혈병환자가족에게 코로나19백신 최우선접종을 청원합니다.</td>\n",
       "      <td>1106.0</td>\n",
       "      <td>['저는 백혈백 환자를 아들(21세)로 두고 있습니다. 부산 **동에 살고 있으며 ...</td>\n",
       "      <td>보건복지</td>\n",
       "      <td>청원진행중</td>\n",
       "      <td>저는 백열백 환자를 아들 21세로 두고 있습니다  부산 동에 살고 있으며 나이는 ...</td>\n",
       "      <td>31</td>\n",
       "      <td>782</td>\n",
       "      <td>[혈, 백, 환자, 아들, 세, 부산, 동, 세, 아내, 세, 큰아들, 세, 7월 ...</td>\n",
       "      <td>[두, 살, 있, 받, 걸치, 받, 받, 가, 받, 가, 받, 받, 빌, 빌, 떨치...</td>\n",
       "      <td>[어리, 없, 많, 크, 고맙]</td>\n",
       "      <td>2021-03-30</td>\n",
       "      <td>2021-04-29</td>\n",
       "      <td>sad</td>\n",
       "      <td>[백혈병, 환자, 가족, 코로나19, 백신, 우선, 접종]</td>\n",
       "      <td>[백혈병, 환자, 가족, 코로나19, 백신, 우선, 접종, 혈, 백, 환자, 아들,...</td>\n",
       "      <td>{'이식': 0.292, '조혈모세포': 0.26, '아들': 0.249, '백혈병...</td>\n",
       "      <td>123</td>\n",
       "      <td>27</td>\n",
       "      <td>5</td>\n",
       "      <td>0</td>\n",
       "    </tr>\n",
       "    <tr>\n",
       "      <th>17750</th>\n",
       "      <td>597289</td>\n",
       "      <td>한복을 우리나라 문화재로 지정해주세요</td>\n",
       "      <td>3846.0</td>\n",
       "      <td>['한복이 아직도 우리나라 문화재로 지정되어있지않습니다 중국이 한복과 김치를 중국의...</td>\n",
       "      <td>문화/예술/체육/언론</td>\n",
       "      <td>청원진행중</td>\n",
       "      <td>한복이 아직도 우리나라 문화재로 지정되어 있지 않습니다 중국이 한복과 김치를 중국...</td>\n",
       "      <td>20</td>\n",
       "      <td>142</td>\n",
       "      <td>[한복, 우리나라, 문화재, 지정, 중국, 한복, 김치, 중국, 지속, 주장, 말,...</td>\n",
       "      <td>[빼앗기, 줄이]</td>\n",
       "      <td>[]</td>\n",
       "      <td>2021-03-30</td>\n",
       "      <td>2021-04-29</td>\n",
       "      <td>fear</td>\n",
       "      <td>[한복, 우리나라, 문화재, 지정]</td>\n",
       "      <td>[한복, 우리나라, 문화재, 지정, 한복, 우리나라, 문화재, 지정, 중국, 한복,...</td>\n",
       "      <td>{'한복': 0.707, '문화재': 0.464, '지정': 0.286, '우리나라...</td>\n",
       "      <td>22</td>\n",
       "      <td>2</td>\n",
       "      <td>0</td>\n",
       "      <td>0</td>\n",
       "    </tr>\n",
       "  </tbody>\n",
       "</table>\n",
       "<p>17751 rows × 22 columns</p>\n",
       "</div>"
      ],
      "text/plain": [
       "         code                                              title     count  \\\n",
       "0      579353  “정부아이돌봄서비스 아이돌보미 영유아 폭행 강력 처벌 및 재발방지방안 수립을 부탁합...  281764.0   \n",
       "1      579401  연합뉴스에 국민혈세로 지급하는 연 300억원의 재정보조금 제도의 전면 폐지를 청원합니다.  364920.0   \n",
       "2      579426                                소방공무원을 국가직으로 전환해주세요  380769.0   \n",
       "3      579523                               버닝썬 VIP룸 6인을 수사해 주세요  213327.0   \n",
       "4      579585                     **대 수의대에서 실험중인 퇴역 탐지견을 구조해주십시요  217249.0   \n",
       "...       ...                                                ...       ...   \n",
       "17746  597284                           보육교사 월1회 코로나검사에대해 반대합니다!   91910.0   \n",
       "17747  597285              사람 목숨을 가지고 장난치는 악덕업자를 구속하여 주세요.......    1263.0   \n",
       "17748  597286                             4차재난지원금 소상공인 버팀목자금 플러스    2767.0   \n",
       "17749  597287                    백혈병환자가족에게 코로나19백신 최우선접종을 청원합니다.    1106.0   \n",
       "17750  597289                               한복을 우리나라 문화재로 지정해주세요    3846.0   \n",
       "\n",
       "                                                 content     category  \\\n",
       "0      “정부아이돌봄서비스 아이돌보미 영유아 폭행 강력 처벌 및 재발방지방안 수립을 부탁합...        육아/교육   \n",
       "1      연합뉴스는 군사정권의 언론탄압이 극심했던 1980년 12월 출범한 이래로, 지속적인...  문화/예술/체육/언론   \n",
       "2      문재인 정부가 국정과제로 추진하고 있는 소방공무원 국가직화(化)가 국회 벽을 넘지 ...        안전/환경   \n",
       "3      안녕하세요?세간을 떠들썩하게 하고 국민을 분노하게 했던,속칭 버닝썬 사건-이하 버닝...           기타   \n",
       "4      안녕하십니까?(사)비글구조네트워크입니다오늘 2019년 4월 15일자 KBS 9시 뉴...         반려동물   \n",
       "...                                                  ...          ...   \n",
       "17746  ['저는 어린이집에서 근무하는 보육교사입니다길어지고 끝이안보이는 코로나로인해 모든국...       인권/성평등   \n",
       "17747  ['저는  서해바다에서 구조대 로써 17년간 활동하고 있는 구조대원 입니다,정말 분...           기타   \n",
       "17748  ['왜 4차재난지원금에 19년대비 20년도 매출을 고집하시나요영업제한으로 피해를 본...           기타   \n",
       "17749  ['저는 백혈백 환자를 아들(21세)로 두고 있습니다. 부산 **동에 살고 있으며 ...         보건복지   \n",
       "17750  ['한복이 아직도 우리나라 문화재로 지정되어있지않습니다 중국이 한복과 김치를 중국의...  문화/예술/체육/언론   \n",
       "\n",
       "      progress                                summary_content_end  title_len  \\\n",
       "0        답변완료   “정부 아이돌봄서비스 아이돌보미 영유아 폭행 강력 처벌 및 재발방지 방안 수립을 부...         80   \n",
       "1        답변완료   연합뉴스는 군사정권의 언론탄압이 극심했던 1980년 12월 출범한 이래로 지속적인 ...         49   \n",
       "2        답변완료   문재인 정부가 국정과제로 추진하고 있는 소방공무원 국가직화 化 가 국회 벽을 넘지 ...         19   \n",
       "3        답변완료    세간을 떠들썩하게 하고 국민을 분노하게 했던 속칭 버닝 썬 사건 이하 버닝 썬 사...         20   \n",
       "4        답변완료   안녕하십니까 사 비글 구조 네트워크입니다 오늘 2019년 4월 15일 자 KBS 9...         30   \n",
       "...        ...                                                ...        ...   \n",
       "17746   청원진행중    저는 어린이집에서 근무하는 보육교사입니다 길어지고 끝이 안 보이는 코로나로 인해 ...         24   \n",
       "17747   청원진행중    저는 서해바다에서 구조대 로써 17년간 활동하고 있는 구조대원입니다 정말 분하고 ...         37   \n",
       "17748   청원진행중    왜 4차 재난지원금에 19년 대비 20년도 매출을 고집하시나요 영업제한으로 피해를...         22   \n",
       "17749   청원진행중    저는 백열백 환자를 아들 21세로 두고 있습니다  부산 동에 살고 있으며 나이는 ...         31   \n",
       "17750   청원진행중    한복이 아직도 우리나라 문화재로 지정되어 있지 않습니다 중국이 한복과 김치를 중국...         20   \n",
       "\n",
       "       doc_len                                       content_noun  \\\n",
       "0         1596  [정부, 아이돌봄, 서비스, 아이돌보미, 영유아, 폭행, 처벌, 재발, 방지, 방안...   \n",
       "1         1075  [군사, 정권, 언론, 탄압, 12월, 출범, 이래, 지속, 정부, 인사, 개입, ...   \n",
       "2         1585  [문재인, 정부, 국정, 제로, 추진, 소방, 공무원, 국가, 직, 국회, 벽, 좌...   \n",
       "3          870  [안녕하세요, 세간, 국민, 분노, 속칭, 사건, 이하, 사건, 수사, 글, 현재,...   \n",
       "4         1462  [안녕하십니까, 사, 비글, 구조, 네트워크, 입, 니다, 오늘, 4월 15일, 자...   \n",
       "...        ...                                                ...   \n",
       "17746      819  [어린이집, 근무, 보육, 교사, 끝, 이안, 보이, 코로, 나로, 인해, 국민, ...   \n",
       "17747     1594  [서해, 바다, 구조대, 17년, 간, 활동, 구조, 대원, 정말, 참, 국민, 대...   \n",
       "17748      106  [차, 재난, 지원금, 19년, 대비, 년대, 매출, 고집, 하시나, 요, 영업, ...   \n",
       "17749      782  [혈, 백, 환자, 아들, 세, 부산, 동, 세, 아내, 세, 큰아들, 세, 7월 ...   \n",
       "17750      142  [한복, 우리나라, 문화재, 지정, 중국, 한복, 김치, 중국, 지속, 주장, 말,...   \n",
       "\n",
       "                                            content_verb  \\\n",
       "0      [살, 키우, 있, 받, 믿, 되, 넘, 통하, 되, 통하, 바라, 때리, 울, 넣...   \n",
       "1      [위하, 이르, 관하, 받, 미치, 되, 담기, 일삼, 있, 어긋나, 대하, 가로지...   \n",
       "2      [있, 넘, 처하, 통하, 외치, 따르, 위하, 두, 관하, 이르, 빠지, 따르, ...   \n",
       "3      [대하, 올리, 들이, 보, 이루어지, 관하, 대하, 있, 보이, 있, 통하, 알리...   \n",
       "4      [통하, 대하, 되, 지나, 받, 걸치, 드리, 살, 알리, 위하, 있, 정하, 떠...   \n",
       "...                                                  ...   \n",
       "17746  [지치, 보, 빠지, 마치, 마치, 지내, 보내, 있, 그러, 걸리, 되, 허, 있...   \n",
       "17747  [있, 치, 만들, 되, 올리, 있, 있, 있, 계시, 받, 보내, 보, 있, 믿,...   \n",
       "17748                                            [지키, 나]   \n",
       "17749  [두, 살, 있, 받, 걸치, 받, 받, 가, 받, 가, 받, 받, 빌, 빌, 떨치...   \n",
       "17750                                          [빼앗기, 줄이]   \n",
       "\n",
       "                                             content_adj      sdays  \\\n",
       "0      [없, 같, 그렇, 무섭, 늦, 수많, 많, 같, 비싸, 없, 이쁘, 많, 그렇, ... 2019-04-01   \n",
       "1                                  [안타깝, 길, 많, 같, 없, 가쁘] 2019-04-04   \n",
       "2      [늦, 강하, 별다르, 늦, 없, 늦, 크, 멀, 크, 적, 적, 적, 적, 크, ... 2019-04-05   \n",
       "3                                 [적, 크, 같, 없, 없, 없, 이렇] 2019-04-11   \n",
       "4                                          [어떻, 없, 크, 없] 2019-04-16   \n",
       "...                                                  ...        ...   \n",
       "17746                     [길, 좋, 크, 많, 같, 많, 많, 많, 같, 싫] 2021-03-30   \n",
       "17747  [분하, 없, 없, 없, 없, 그렇, 멀, 없, 없, 심하, 심하, 없, 없, 그렇... 2021-03-30   \n",
       "17748                                                 [] 2021-03-30   \n",
       "17749                                  [어리, 없, 많, 크, 고맙] 2021-03-30   \n",
       "17750                                                 [] 2021-03-30   \n",
       "\n",
       "           edays   emotion                                        title_token  \\\n",
       "0     2019-05-01       sad  [정부, 아이돌봄, 서비스, 아이돌보미, 영유아, 폭행, 처벌, 재발, 방지, 방안...   \n",
       "1     2019-05-04     angry               [국민, 혈세, 지급, 원, 재정, 보조금, 제도, 전면, 폐지]   \n",
       "2     2019-05-05     angry                               [소방, 공무원, 국가, 직, 전환]   \n",
       "3     2019-05-11     angry                                         [룸, 인, 수사]   \n",
       "4     2019-05-16   disgust                      [대, 수의대, 실험, 중인, 퇴역, 탐지견, 구조]   \n",
       "...          ...       ...                                                ...   \n",
       "17746 2021-04-29     angry                        [보육, 교사, 월, 회, 코로나, 검사, 반대]   \n",
       "17747 2021-04-29     angry                               [사람, 목숨, 악덕, 업자, 구속]   \n",
       "17748 2021-04-29  dontknow                   [차, 재난, 지원금, 소상공인, 버팀목, 자금, 플러스]   \n",
       "17749 2021-04-29       sad                   [백혈병, 환자, 가족, 코로나19, 백신, 우선, 접종]   \n",
       "17750 2021-04-29      fear                                [한복, 우리나라, 문화재, 지정]   \n",
       "\n",
       "                                             total_token  \\\n",
       "0      [정부, 아이돌봄, 서비스, 아이돌보미, 영유아, 폭행, 처벌, 재발, 방지, 방안...   \n",
       "1      [국민, 혈세, 지급, 원, 재정, 보조금, 제도, 전면, 폐지, 군사, 정권, 언...   \n",
       "2      [소방, 공무원, 국가, 직, 전환, 문재인, 정부, 국정, 제로, 추진, 소방, ...   \n",
       "3      [룸, 인, 수사, 안녕하세요, 세간, 국민, 분노, 속칭, 사건, 이하, 사건, ...   \n",
       "4      [대, 수의대, 실험, 중인, 퇴역, 탐지견, 구조, 안녕하십니까, 사, 비글, 구...   \n",
       "...                                                  ...   \n",
       "17746  [보육, 교사, 월, 회, 코로나, 검사, 반대, 어린이집, 근무, 보육, 교사, ...   \n",
       "17747  [사람, 목숨, 악덕, 업자, 구속, 서해, 바다, 구조대, 17년, 간, 활동, ...   \n",
       "17748  [차, 재난, 지원금, 소상공인, 버팀목, 자금, 플러스, 차, 재난, 지원금, 1...   \n",
       "17749  [백혈병, 환자, 가족, 코로나19, 백신, 우선, 접종, 혈, 백, 환자, 아들,...   \n",
       "17750  [한복, 우리나라, 문화재, 지정, 한복, 우리나라, 문화재, 지정, 중국, 한복,...   \n",
       "\n",
       "                                             top_keyword  count_noun  \\\n",
       "0      {'아이돌봄': 0.495, '서비스': 0.319, '부부': 0.301, '아이...         247   \n",
       "1      {'뉴스': 0.371, '공정': 0.334, '탄압': 0.212, '언론': ...         184   \n",
       "2      {'소방': 0.58, '국가': 0.344, '소방관': 0.327, '국회': ...         319   \n",
       "3      {'수사': 0.622, '검경': 0.326, '속칭': 0.23, '조사': 0...         122   \n",
       "4      {'실험': 0.367, '복제': 0.358, '네트워크': 0.276, '검역'...         267   \n",
       "...                                                  ...         ...   \n",
       "17746  {'보육': 0.552, '교사': 0.454, '검사': 0.374, '어린이집'...         150   \n",
       "17747  {'엔진': 0.477, '수리': 0.393, '업자': 0.287, '바다': ...         254   \n",
       "17748  {'영업': 0.422, '년대': 0.306, '지원금': 0.299, '재난':...          25   \n",
       "17749  {'이식': 0.292, '조혈모세포': 0.26, '아들': 0.249, '백혈병...         123   \n",
       "17750  {'한복': 0.707, '문화재': 0.464, '지정': 0.286, '우리나라...          22   \n",
       "\n",
       "       count_verb  count_adj  target  \n",
       "0              54         18       1  \n",
       "1              15          6       1  \n",
       "2              37         17       1  \n",
       "3              33          7       1  \n",
       "4              39          4       1  \n",
       "...           ...        ...     ...  \n",
       "17746          29         10       0  \n",
       "17747          55         22       0  \n",
       "17748           2          0       0  \n",
       "17749          27          5       0  \n",
       "17750           2          0       0  \n",
       "\n",
       "[17751 rows x 22 columns]"
      ]
     },
     "execution_count": 180,
     "metadata": {},
     "output_type": "execute_result"
    }
   ],
   "source": [
    "final_data_end"
   ]
  },
  {
   "cell_type": "code",
   "execution_count": 181,
   "metadata": {},
   "outputs": [],
   "source": [
    "final_data_end = final_data_end[final_data_end['progress']!='청원진행중 ']"
   ]
  },
  {
   "cell_type": "code",
   "execution_count": 182,
   "metadata": {},
   "outputs": [
    {
     "data": {
      "text/html": [
       "<div>\n",
       "<style scoped>\n",
       "    .dataframe tbody tr th:only-of-type {\n",
       "        vertical-align: middle;\n",
       "    }\n",
       "\n",
       "    .dataframe tbody tr th {\n",
       "        vertical-align: top;\n",
       "    }\n",
       "\n",
       "    .dataframe thead th {\n",
       "        text-align: right;\n",
       "    }\n",
       "</style>\n",
       "<table border=\"1\" class=\"dataframe\">\n",
       "  <thead>\n",
       "    <tr style=\"text-align: right;\">\n",
       "      <th>progress</th>\n",
       "      <th>답변완료</th>\n",
       "      <th>청원종료</th>\n",
       "    </tr>\n",
       "    <tr>\n",
       "      <th>target</th>\n",
       "      <th></th>\n",
       "      <th></th>\n",
       "    </tr>\n",
       "  </thead>\n",
       "  <tbody>\n",
       "    <tr>\n",
       "      <th>0</th>\n",
       "      <td>1</td>\n",
       "      <td>17419</td>\n",
       "    </tr>\n",
       "    <tr>\n",
       "      <th>1</th>\n",
       "      <td>135</td>\n",
       "      <td>1</td>\n",
       "    </tr>\n",
       "  </tbody>\n",
       "</table>\n",
       "</div>"
      ],
      "text/plain": [
       "progress  답변완료   청원종료 \n",
       "target                \n",
       "0             1  17419\n",
       "1           135      1"
      ]
     },
     "execution_count": 182,
     "metadata": {},
     "output_type": "execute_result"
    }
   ],
   "source": [
    "pd.crosstab(final_data_end['target'], final_data_end['progress'])"
   ]
  },
  {
   "cell_type": "code",
   "execution_count": 183,
   "metadata": {},
   "outputs": [
    {
     "data": {
      "text/plain": [
       "Index(['code', 'title', 'count', 'content', 'category', 'progress',\n",
       "       'summary_content_end', 'title_len', 'doc_len', 'content_noun',\n",
       "       'content_verb', 'content_adj', 'sdays', 'edays', 'emotion',\n",
       "       'title_token', 'total_token', 'top_keyword', 'count_noun', 'count_verb',\n",
       "       'count_adj', 'target'],\n",
       "      dtype='object')"
      ]
     },
     "execution_count": 183,
     "metadata": {},
     "output_type": "execute_result"
    }
   ],
   "source": [
    "final_data_end.columns"
   ]
  },
  {
   "cell_type": "code",
   "execution_count": 380,
   "metadata": {},
   "outputs": [],
   "source": [
    "df = final_data_end[['title','content','count','category','summary_content_end','title_len','doc_len','emotion','total_token','top_keyword','count_noun','count_verb','count_adj','target']]"
   ]
  },
  {
   "cell_type": "code",
   "execution_count": 381,
   "metadata": {},
   "outputs": [
    {
     "data": {
      "text/plain": [
       "Index(['title', 'content', 'count', 'category', 'summary_content_end',\n",
       "       'title_len', 'doc_len', 'emotion', 'total_token', 'top_keyword',\n",
       "       'count_noun', 'count_verb', 'count_adj', 'target'],\n",
       "      dtype='object')"
      ]
     },
     "execution_count": 381,
     "metadata": {},
     "output_type": "execute_result"
    }
   ],
   "source": [
    "df.columns"
   ]
  },
  {
   "cell_type": "code",
   "execution_count": 382,
   "metadata": {},
   "outputs": [
    {
     "data": {
      "text/plain": [
       "array([[<AxesSubplot:title={'center':'count'}>,\n",
       "        <AxesSubplot:title={'center':'title_len'}>,\n",
       "        <AxesSubplot:title={'center':'doc_len'}>],\n",
       "       [<AxesSubplot:title={'center':'count_noun'}>,\n",
       "        <AxesSubplot:title={'center':'count_verb'}>,\n",
       "        <AxesSubplot:title={'center':'count_adj'}>],\n",
       "       [<AxesSubplot:title={'center':'target'}>, <AxesSubplot:>,\n",
       "        <AxesSubplot:>]], dtype=object)"
      ]
     },
     "execution_count": 382,
     "metadata": {},
     "output_type": "execute_result"
    },
    {
     "data": {
      "image/png": "[encoded data removed]",
      "text/plain": [
       "<Figure size 864x576 with 9 Axes>"
      ]
     },
     "metadata": {
      "needs_background": "light"
     },
     "output_type": "display_data"
    }
   ],
   "source": [
    "df.hist(figsize = (12, 8))"
   ]
  },
  {
   "cell_type": "code",
   "execution_count": 383,
   "metadata": {},
   "outputs": [
    {
     "data": {
      "text/plain": [
       "<AxesSubplot:>"
      ]
     },
     "execution_count": 383,
     "metadata": {},
     "output_type": "execute_result"
    },
    {
     "data": {
      "image/png": "[encoded data removed]",
      "text/plain": [
       "<Figure size 432x288 with 1 Axes>"
      ]
     },
     "metadata": {
      "needs_background": "light"
     },
     "output_type": "display_data"
    }
   ],
   "source": [
    "np.log(df['doc_len']).hist()"
   ]
  },
  {
   "cell_type": "code",
   "execution_count": 384,
   "metadata": {},
   "outputs": [
    {
     "data": {
      "text/plain": [
       "<AxesSubplot:>"
      ]
     },
     "execution_count": 384,
     "metadata": {},
     "output_type": "execute_result"
    },
    {
     "data": {
      "image/png": "[encoded data removed]",
      "text/plain": [
       "<Figure size 432x288 with 1 Axes>"
      ]
     },
     "metadata": {
      "needs_background": "light"
     },
     "output_type": "display_data"
    }
   ],
   "source": [
    "df['count_verb'].hist()"
   ]
  },
  {
   "cell_type": "code",
   "execution_count": 385,
   "metadata": {},
   "outputs": [
    {
     "data": {
      "text/plain": [
       "<AxesSubplot:>"
      ]
     },
     "execution_count": 385,
     "metadata": {},
     "output_type": "execute_result"
    },
    {
     "data": {
      "image/png": "[encoded data removed]",
      "text/plain": [
       "<Figure size 432x288 with 1 Axes>"
      ]
     },
     "metadata": {
      "needs_background": "light"
     },
     "output_type": "display_data"
    }
   ],
   "source": [
    "np.sqrt(df['count_verb']).hist()"
   ]
  },
  {
   "cell_type": "code",
   "execution_count": 386,
   "metadata": {},
   "outputs": [
    {
     "data": {
      "text/plain": [
       "<AxesSubplot:>"
      ]
     },
     "execution_count": 386,
     "metadata": {},
     "output_type": "execute_result"
    },
    {
     "data": {
      "image/png": "[encoded data removed]",
      "text/plain": [
       "<Figure size 432x288 with 1 Axes>"
      ]
     },
     "metadata": {
      "needs_background": "light"
     },
     "output_type": "display_data"
    }
   ],
   "source": [
    "np.sqrt(df['count_noun']).hist()"
   ]
  },
  {
   "cell_type": "markdown",
   "metadata": {},
   "source": [
    "* log는 에러 범위를 벗어나서"
   ]
  },
  {
   "cell_type": "code",
   "execution_count": 387,
   "metadata": {},
   "outputs": [
    {
     "data": {
      "text/plain": [
       "6711.044258373206"
      ]
     },
     "execution_count": 387,
     "metadata": {},
     "output_type": "execute_result"
    }
   ],
   "source": [
    "df['count'].mean()"
   ]
  },
  {
   "cell_type": "code",
   "execution_count": 388,
   "metadata": {},
   "outputs": [],
   "source": [
    "df = df[df['count']>=6711]"
   ]
  },
  {
   "cell_type": "code",
   "execution_count": 389,
   "metadata": {},
   "outputs": [
    {
     "data": {
      "text/plain": [
       "array([[<AxesSubplot:title={'center':'count'}>,\n",
       "        <AxesSubplot:title={'center':'title_len'}>,\n",
       "        <AxesSubplot:title={'center':'doc_len'}>],\n",
       "       [<AxesSubplot:title={'center':'count_noun'}>,\n",
       "        <AxesSubplot:title={'center':'count_verb'}>,\n",
       "        <AxesSubplot:title={'center':'count_adj'}>],\n",
       "       [<AxesSubplot:title={'center':'target'}>, <AxesSubplot:>,\n",
       "        <AxesSubplot:>]], dtype=object)"
      ]
     },
     "execution_count": 389,
     "metadata": {},
     "output_type": "execute_result"
    },
    {
     "data": {
      "image/png": "[encoded data removed]",
      "text/plain": [
       "<Figure size 432x288 with 9 Axes>"
      ]
     },
     "metadata": {
      "needs_background": "light"
     },
     "output_type": "display_data"
    }
   ],
   "source": [
    "df.hist()"
   ]
  },
  {
   "cell_type": "code",
   "execution_count": 390,
   "metadata": {},
   "outputs": [
    {
     "data": {
      "text/plain": [
       "<AxesSubplot:>"
      ]
     },
     "execution_count": 390,
     "metadata": {},
     "output_type": "execute_result"
    },
    {
     "data": {
      "image/png": "[encoded data removed]",
      "text/plain": [
       "<Figure size 432x288 with 1 Axes>"
      ]
     },
     "metadata": {
      "needs_background": "light"
     },
     "output_type": "display_data"
    }
   ],
   "source": [
    "np.sqrt(df['count_noun']).hist()"
   ]
  },
  {
   "cell_type": "code",
   "execution_count": 391,
   "metadata": {},
   "outputs": [],
   "source": [
    "df['log_doc_len'] = np.log(df['doc_len'])"
   ]
  },
  {
   "cell_type": "code",
   "execution_count": 392,
   "metadata": {},
   "outputs": [],
   "source": [
    "df['sqrt_count_noun'] = np.sqrt(df['count_noun'])\n",
    "df['sqrt_count_verb'] = np.sqrt(df['count_verb'])\n",
    "df['sqrt_count_adj'] = np.sqrt(df['count_adj'])"
   ]
  },
  {
   "cell_type": "code",
   "execution_count": 393,
   "metadata": {},
   "outputs": [
    {
     "data": {
      "text/plain": [
       "array([[<AxesSubplot:title={'center':'count'}>,\n",
       "        <AxesSubplot:title={'center':'title_len'}>,\n",
       "        <AxesSubplot:title={'center':'doc_len'}>],\n",
       "       [<AxesSubplot:title={'center':'count_noun'}>,\n",
       "        <AxesSubplot:title={'center':'count_verb'}>,\n",
       "        <AxesSubplot:title={'center':'count_adj'}>],\n",
       "       [<AxesSubplot:title={'center':'target'}>,\n",
       "        <AxesSubplot:title={'center':'log_doc_len'}>,\n",
       "        <AxesSubplot:title={'center':'sqrt_count_noun'}>],\n",
       "       [<AxesSubplot:title={'center':'sqrt_count_verb'}>,\n",
       "        <AxesSubplot:title={'center':'sqrt_count_adj'}>, <AxesSubplot:>]],\n",
       "      dtype=object)"
      ]
     },
     "execution_count": 393,
     "metadata": {},
     "output_type": "execute_result"
    },
    {
     "data": {
      "image/png": "[encoded data removed]",
      "text/plain": [
       "<Figure size 864x576 with 12 Axes>"
      ]
     },
     "metadata": {
      "needs_background": "light"
     },
     "output_type": "display_data"
    }
   ],
   "source": [
    "df.hist(figsize = (12,8))"
   ]
  },
  {
   "cell_type": "code",
   "execution_count": 394,
   "metadata": {},
   "outputs": [
    {
     "data": {
      "text/plain": [
       "(1895, 12)"
      ]
     },
     "execution_count": 394,
     "metadata": {},
     "output_type": "execute_result"
    }
   ],
   "source": [
    "df_new = df.drop(['title','content','doc_len','count_noun','count_verb','count_adj'],axis = 1)\n",
    "df_new.shape"
   ]
  },
  {
   "cell_type": "markdown",
   "metadata": {},
   "source": [
    "### OneHot Encoding"
   ]
  },
  {
   "cell_type": "code",
   "execution_count": 395,
   "metadata": {},
   "outputs": [],
   "source": [
    "df_dummies = pd.get_dummies(df_new,columns = ['category','emotion'])"
   ]
  },
  {
   "cell_type": "code",
   "execution_count": 396,
   "metadata": {},
   "outputs": [],
   "source": [
    "df_dummies = df_dummies.drop(['count','summary_content_end','total_token','top_keyword'], axis = 1)"
   ]
  },
  {
   "cell_type": "code",
   "execution_count": 397,
   "metadata": {},
   "outputs": [
    {
     "data": {
      "text/html": [
       "<div>\n",
       "<style scoped>\n",
       "    .dataframe tbody tr th:only-of-type {\n",
       "        vertical-align: middle;\n",
       "    }\n",
       "\n",
       "    .dataframe tbody tr th {\n",
       "        vertical-align: top;\n",
       "    }\n",
       "\n",
       "    .dataframe thead th {\n",
       "        text-align: right;\n",
       "    }\n",
       "</style>\n",
       "<table border=\"1\" class=\"dataframe\">\n",
       "  <thead>\n",
       "    <tr style=\"text-align: right;\">\n",
       "      <th></th>\n",
       "      <th>title_len</th>\n",
       "      <th>target</th>\n",
       "      <th>log_doc_len</th>\n",
       "      <th>sqrt_count_noun</th>\n",
       "      <th>sqrt_count_verb</th>\n",
       "      <th>sqrt_count_adj</th>\n",
       "      <th>category_경제민주화</th>\n",
       "      <th>category_교통/건축/국토</th>\n",
       "      <th>category_기타</th>\n",
       "      <th>category_농산어촌</th>\n",
       "      <th>category_문화/예술/체육/언론</th>\n",
       "      <th>category_미래</th>\n",
       "      <th>category_반려동물</th>\n",
       "      <th>category_보건복지</th>\n",
       "      <th>category_성장동력</th>\n",
       "      <th>category_안전/환경</th>\n",
       "      <th>category_외교/통일/국방</th>\n",
       "      <th>category_육아/교육</th>\n",
       "      <th>category_인권/성평등</th>\n",
       "      <th>category_일자리</th>\n",
       "      <th>category_저출산/고령화대책</th>\n",
       "      <th>category_정치개혁</th>\n",
       "      <th>category_행정</th>\n",
       "      <th>emotion_angry</th>\n",
       "      <th>emotion_disgust</th>\n",
       "      <th>emotion_dontknow</th>\n",
       "      <th>emotion_fear</th>\n",
       "      <th>emotion_sad</th>\n",
       "    </tr>\n",
       "  </thead>\n",
       "  <tbody>\n",
       "    <tr>\n",
       "      <th>0</th>\n",
       "      <td>80</td>\n",
       "      <td>1</td>\n",
       "      <td>7.375256</td>\n",
       "      <td>15.716234</td>\n",
       "      <td>7.348469</td>\n",
       "      <td>4.242641</td>\n",
       "      <td>0</td>\n",
       "      <td>0</td>\n",
       "      <td>0</td>\n",
       "      <td>0</td>\n",
       "      <td>0</td>\n",
       "      <td>0</td>\n",
       "      <td>0</td>\n",
       "      <td>0</td>\n",
       "      <td>0</td>\n",
       "      <td>0</td>\n",
       "      <td>0</td>\n",
       "      <td>1</td>\n",
       "      <td>0</td>\n",
       "      <td>0</td>\n",
       "      <td>0</td>\n",
       "      <td>0</td>\n",
       "      <td>0</td>\n",
       "      <td>0</td>\n",
       "      <td>0</td>\n",
       "      <td>0</td>\n",
       "      <td>0</td>\n",
       "      <td>1</td>\n",
       "    </tr>\n",
       "    <tr>\n",
       "      <th>1</th>\n",
       "      <td>49</td>\n",
       "      <td>1</td>\n",
       "      <td>6.980076</td>\n",
       "      <td>13.564660</td>\n",
       "      <td>3.872983</td>\n",
       "      <td>2.449490</td>\n",
       "      <td>0</td>\n",
       "      <td>0</td>\n",
       "      <td>0</td>\n",
       "      <td>0</td>\n",
       "      <td>1</td>\n",
       "      <td>0</td>\n",
       "      <td>0</td>\n",
       "      <td>0</td>\n",
       "      <td>0</td>\n",
       "      <td>0</td>\n",
       "      <td>0</td>\n",
       "      <td>0</td>\n",
       "      <td>0</td>\n",
       "      <td>0</td>\n",
       "      <td>0</td>\n",
       "      <td>0</td>\n",
       "      <td>0</td>\n",
       "      <td>1</td>\n",
       "      <td>0</td>\n",
       "      <td>0</td>\n",
       "      <td>0</td>\n",
       "      <td>0</td>\n",
       "    </tr>\n",
       "    <tr>\n",
       "      <th>2</th>\n",
       "      <td>19</td>\n",
       "      <td>1</td>\n",
       "      <td>7.368340</td>\n",
       "      <td>17.860571</td>\n",
       "      <td>6.082763</td>\n",
       "      <td>4.123106</td>\n",
       "      <td>0</td>\n",
       "      <td>0</td>\n",
       "      <td>0</td>\n",
       "      <td>0</td>\n",
       "      <td>0</td>\n",
       "      <td>0</td>\n",
       "      <td>0</td>\n",
       "      <td>0</td>\n",
       "      <td>0</td>\n",
       "      <td>1</td>\n",
       "      <td>0</td>\n",
       "      <td>0</td>\n",
       "      <td>0</td>\n",
       "      <td>0</td>\n",
       "      <td>0</td>\n",
       "      <td>0</td>\n",
       "      <td>0</td>\n",
       "      <td>1</td>\n",
       "      <td>0</td>\n",
       "      <td>0</td>\n",
       "      <td>0</td>\n",
       "      <td>0</td>\n",
       "    </tr>\n",
       "    <tr>\n",
       "      <th>3</th>\n",
       "      <td>20</td>\n",
       "      <td>1</td>\n",
       "      <td>6.768493</td>\n",
       "      <td>11.045361</td>\n",
       "      <td>5.744563</td>\n",
       "      <td>2.645751</td>\n",
       "      <td>0</td>\n",
       "      <td>0</td>\n",
       "      <td>1</td>\n",
       "      <td>0</td>\n",
       "      <td>0</td>\n",
       "      <td>0</td>\n",
       "      <td>0</td>\n",
       "      <td>0</td>\n",
       "      <td>0</td>\n",
       "      <td>0</td>\n",
       "      <td>0</td>\n",
       "      <td>0</td>\n",
       "      <td>0</td>\n",
       "      <td>0</td>\n",
       "      <td>0</td>\n",
       "      <td>0</td>\n",
       "      <td>0</td>\n",
       "      <td>1</td>\n",
       "      <td>0</td>\n",
       "      <td>0</td>\n",
       "      <td>0</td>\n",
       "      <td>0</td>\n",
       "    </tr>\n",
       "    <tr>\n",
       "      <th>4</th>\n",
       "      <td>30</td>\n",
       "      <td>1</td>\n",
       "      <td>7.287561</td>\n",
       "      <td>16.340135</td>\n",
       "      <td>6.244998</td>\n",
       "      <td>2.000000</td>\n",
       "      <td>0</td>\n",
       "      <td>0</td>\n",
       "      <td>0</td>\n",
       "      <td>0</td>\n",
       "      <td>0</td>\n",
       "      <td>0</td>\n",
       "      <td>1</td>\n",
       "      <td>0</td>\n",
       "      <td>0</td>\n",
       "      <td>0</td>\n",
       "      <td>0</td>\n",
       "      <td>0</td>\n",
       "      <td>0</td>\n",
       "      <td>0</td>\n",
       "      <td>0</td>\n",
       "      <td>0</td>\n",
       "      <td>0</td>\n",
       "      <td>0</td>\n",
       "      <td>1</td>\n",
       "      <td>0</td>\n",
       "      <td>0</td>\n",
       "      <td>0</td>\n",
       "    </tr>\n",
       "    <tr>\n",
       "      <th>...</th>\n",
       "      <td>...</td>\n",
       "      <td>...</td>\n",
       "      <td>...</td>\n",
       "      <td>...</td>\n",
       "      <td>...</td>\n",
       "      <td>...</td>\n",
       "      <td>...</td>\n",
       "      <td>...</td>\n",
       "      <td>...</td>\n",
       "      <td>...</td>\n",
       "      <td>...</td>\n",
       "      <td>...</td>\n",
       "      <td>...</td>\n",
       "      <td>...</td>\n",
       "      <td>...</td>\n",
       "      <td>...</td>\n",
       "      <td>...</td>\n",
       "      <td>...</td>\n",
       "      <td>...</td>\n",
       "      <td>...</td>\n",
       "      <td>...</td>\n",
       "      <td>...</td>\n",
       "      <td>...</td>\n",
       "      <td>...</td>\n",
       "      <td>...</td>\n",
       "      <td>...</td>\n",
       "      <td>...</td>\n",
       "      <td>...</td>\n",
       "    </tr>\n",
       "    <tr>\n",
       "      <th>17480</th>\n",
       "      <td>40</td>\n",
       "      <td>0</td>\n",
       "      <td>7.254885</td>\n",
       "      <td>14.798649</td>\n",
       "      <td>6.244998</td>\n",
       "      <td>2.236068</td>\n",
       "      <td>0</td>\n",
       "      <td>0</td>\n",
       "      <td>0</td>\n",
       "      <td>0</td>\n",
       "      <td>0</td>\n",
       "      <td>0</td>\n",
       "      <td>0</td>\n",
       "      <td>0</td>\n",
       "      <td>0</td>\n",
       "      <td>0</td>\n",
       "      <td>0</td>\n",
       "      <td>0</td>\n",
       "      <td>1</td>\n",
       "      <td>0</td>\n",
       "      <td>0</td>\n",
       "      <td>0</td>\n",
       "      <td>0</td>\n",
       "      <td>0</td>\n",
       "      <td>1</td>\n",
       "      <td>0</td>\n",
       "      <td>0</td>\n",
       "      <td>0</td>\n",
       "    </tr>\n",
       "    <tr>\n",
       "      <th>17508</th>\n",
       "      <td>24</td>\n",
       "      <td>0</td>\n",
       "      <td>6.324359</td>\n",
       "      <td>8.944272</td>\n",
       "      <td>4.690416</td>\n",
       "      <td>1.414214</td>\n",
       "      <td>0</td>\n",
       "      <td>1</td>\n",
       "      <td>0</td>\n",
       "      <td>0</td>\n",
       "      <td>0</td>\n",
       "      <td>0</td>\n",
       "      <td>0</td>\n",
       "      <td>0</td>\n",
       "      <td>0</td>\n",
       "      <td>0</td>\n",
       "      <td>0</td>\n",
       "      <td>0</td>\n",
       "      <td>0</td>\n",
       "      <td>0</td>\n",
       "      <td>0</td>\n",
       "      <td>0</td>\n",
       "      <td>0</td>\n",
       "      <td>0</td>\n",
       "      <td>1</td>\n",
       "      <td>0</td>\n",
       "      <td>0</td>\n",
       "      <td>0</td>\n",
       "    </tr>\n",
       "    <tr>\n",
       "      <th>17509</th>\n",
       "      <td>28</td>\n",
       "      <td>0</td>\n",
       "      <td>6.129050</td>\n",
       "      <td>8.717798</td>\n",
       "      <td>2.828427</td>\n",
       "      <td>2.000000</td>\n",
       "      <td>1</td>\n",
       "      <td>0</td>\n",
       "      <td>0</td>\n",
       "      <td>0</td>\n",
       "      <td>0</td>\n",
       "      <td>0</td>\n",
       "      <td>0</td>\n",
       "      <td>0</td>\n",
       "      <td>0</td>\n",
       "      <td>0</td>\n",
       "      <td>0</td>\n",
       "      <td>0</td>\n",
       "      <td>0</td>\n",
       "      <td>0</td>\n",
       "      <td>0</td>\n",
       "      <td>0</td>\n",
       "      <td>0</td>\n",
       "      <td>0</td>\n",
       "      <td>0</td>\n",
       "      <td>1</td>\n",
       "      <td>0</td>\n",
       "      <td>0</td>\n",
       "    </tr>\n",
       "    <tr>\n",
       "      <th>17544</th>\n",
       "      <td>19</td>\n",
       "      <td>0</td>\n",
       "      <td>6.139885</td>\n",
       "      <td>9.165151</td>\n",
       "      <td>4.000000</td>\n",
       "      <td>1.414214</td>\n",
       "      <td>0</td>\n",
       "      <td>0</td>\n",
       "      <td>0</td>\n",
       "      <td>0</td>\n",
       "      <td>0</td>\n",
       "      <td>0</td>\n",
       "      <td>0</td>\n",
       "      <td>0</td>\n",
       "      <td>0</td>\n",
       "      <td>1</td>\n",
       "      <td>0</td>\n",
       "      <td>0</td>\n",
       "      <td>0</td>\n",
       "      <td>0</td>\n",
       "      <td>0</td>\n",
       "      <td>0</td>\n",
       "      <td>0</td>\n",
       "      <td>0</td>\n",
       "      <td>0</td>\n",
       "      <td>1</td>\n",
       "      <td>0</td>\n",
       "      <td>0</td>\n",
       "    </tr>\n",
       "    <tr>\n",
       "      <th>17546</th>\n",
       "      <td>96</td>\n",
       "      <td>0</td>\n",
       "      <td>9.352274</td>\n",
       "      <td>40.669399</td>\n",
       "      <td>22.627417</td>\n",
       "      <td>10.630146</td>\n",
       "      <td>0</td>\n",
       "      <td>0</td>\n",
       "      <td>0</td>\n",
       "      <td>0</td>\n",
       "      <td>0</td>\n",
       "      <td>0</td>\n",
       "      <td>0</td>\n",
       "      <td>1</td>\n",
       "      <td>0</td>\n",
       "      <td>0</td>\n",
       "      <td>0</td>\n",
       "      <td>0</td>\n",
       "      <td>0</td>\n",
       "      <td>0</td>\n",
       "      <td>0</td>\n",
       "      <td>0</td>\n",
       "      <td>0</td>\n",
       "      <td>1</td>\n",
       "      <td>0</td>\n",
       "      <td>0</td>\n",
       "      <td>0</td>\n",
       "      <td>0</td>\n",
       "    </tr>\n",
       "  </tbody>\n",
       "</table>\n",
       "<p>1895 rows × 28 columns</p>\n",
       "</div>"
      ],
      "text/plain": [
       "       title_len  target  log_doc_len  sqrt_count_noun  sqrt_count_verb  \\\n",
       "0             80       1     7.375256        15.716234         7.348469   \n",
       "1             49       1     6.980076        13.564660         3.872983   \n",
       "2             19       1     7.368340        17.860571         6.082763   \n",
       "3             20       1     6.768493        11.045361         5.744563   \n",
       "4             30       1     7.287561        16.340135         6.244998   \n",
       "...          ...     ...          ...              ...              ...   \n",
       "17480         40       0     7.254885        14.798649         6.244998   \n",
       "17508         24       0     6.324359         8.944272         4.690416   \n",
       "17509         28       0     6.129050         8.717798         2.828427   \n",
       "17544         19       0     6.139885         9.165151         4.000000   \n",
       "17546         96       0     9.352274        40.669399        22.627417   \n",
       "\n",
       "       sqrt_count_adj  category_경제민주화  category_교통/건축/국토  category_기타  \\\n",
       "0            4.242641               0                  0            0   \n",
       "1            2.449490               0                  0            0   \n",
       "2            4.123106               0                  0            0   \n",
       "3            2.645751               0                  0            1   \n",
       "4            2.000000               0                  0            0   \n",
       "...               ...             ...                ...          ...   \n",
       "17480        2.236068               0                  0            0   \n",
       "17508        1.414214               0                  1            0   \n",
       "17509        2.000000               1                  0            0   \n",
       "17544        1.414214               0                  0            0   \n",
       "17546       10.630146               0                  0            0   \n",
       "\n",
       "       category_농산어촌  category_문화/예술/체육/언론  category_미래  category_반려동물  \\\n",
       "0                  0                     0            0              0   \n",
       "1                  0                     1            0              0   \n",
       "2                  0                     0            0              0   \n",
       "3                  0                     0            0              0   \n",
       "4                  0                     0            0              1   \n",
       "...              ...                   ...          ...            ...   \n",
       "17480              0                     0            0              0   \n",
       "17508              0                     0            0              0   \n",
       "17509              0                     0            0              0   \n",
       "17544              0                     0            0              0   \n",
       "17546              0                     0            0              0   \n",
       "\n",
       "       category_보건복지  category_성장동력  category_안전/환경  category_외교/통일/국방  \\\n",
       "0                  0              0               0                  0   \n",
       "1                  0              0               0                  0   \n",
       "2                  0              0               1                  0   \n",
       "3                  0              0               0                  0   \n",
       "4                  0              0               0                  0   \n",
       "...              ...            ...             ...                ...   \n",
       "17480              0              0               0                  0   \n",
       "17508              0              0               0                  0   \n",
       "17509              0              0               0                  0   \n",
       "17544              0              0               1                  0   \n",
       "17546              1              0               0                  0   \n",
       "\n",
       "       category_육아/교육  category_인권/성평등  category_일자리  category_저출산/고령화대책  \\\n",
       "0                   1                0             0                   0   \n",
       "1                   0                0             0                   0   \n",
       "2                   0                0             0                   0   \n",
       "3                   0                0             0                   0   \n",
       "4                   0                0             0                   0   \n",
       "...               ...              ...           ...                 ...   \n",
       "17480               0                1             0                   0   \n",
       "17508               0                0             0                   0   \n",
       "17509               0                0             0                   0   \n",
       "17544               0                0             0                   0   \n",
       "17546               0                0             0                   0   \n",
       "\n",
       "       category_정치개혁  category_행정  emotion_angry  emotion_disgust  \\\n",
       "0                  0            0              0                0   \n",
       "1                  0            0              1                0   \n",
       "2                  0            0              1                0   \n",
       "3                  0            0              1                0   \n",
       "4                  0            0              0                1   \n",
       "...              ...          ...            ...              ...   \n",
       "17480              0            0              0                1   \n",
       "17508              0            0              0                1   \n",
       "17509              0            0              0                0   \n",
       "17544              0            0              0                0   \n",
       "17546              0            0              1                0   \n",
       "\n",
       "       emotion_dontknow  emotion_fear  emotion_sad  \n",
       "0                     0             0            1  \n",
       "1                     0             0            0  \n",
       "2                     0             0            0  \n",
       "3                     0             0            0  \n",
       "4                     0             0            0  \n",
       "...                 ...           ...          ...  \n",
       "17480                 0             0            0  \n",
       "17508                 0             0            0  \n",
       "17509                 1             0            0  \n",
       "17544                 1             0            0  \n",
       "17546                 0             0            0  \n",
       "\n",
       "[1895 rows x 28 columns]"
      ]
     },
     "execution_count": 397,
     "metadata": {},
     "output_type": "execute_result"
    }
   ],
   "source": [
    "df_dummies"
   ]
  },
  {
   "cell_type": "code",
   "execution_count": 398,
   "metadata": {},
   "outputs": [
    {
     "data": {
      "text/plain": [
       "0    1759\n",
       "1     136\n",
       "Name: target, dtype: int64"
      ]
     },
     "execution_count": 398,
     "metadata": {},
     "output_type": "execute_result"
    }
   ],
   "source": [
    "df_dummies['target'].value_counts()"
   ]
  },
  {
   "cell_type": "code",
   "execution_count": 399,
   "metadata": {},
   "outputs": [
    {
     "data": {
      "text/html": [
       "<div>\n",
       "<style scoped>\n",
       "    .dataframe tbody tr th:only-of-type {\n",
       "        vertical-align: middle;\n",
       "    }\n",
       "\n",
       "    .dataframe tbody tr th {\n",
       "        vertical-align: top;\n",
       "    }\n",
       "\n",
       "    .dataframe thead th {\n",
       "        text-align: right;\n",
       "    }\n",
       "</style>\n",
       "<table border=\"1\" class=\"dataframe\">\n",
       "  <thead>\n",
       "    <tr style=\"text-align: right;\">\n",
       "      <th></th>\n",
       "      <th>title_len</th>\n",
       "      <th>target</th>\n",
       "      <th>log_doc_len</th>\n",
       "      <th>sqrt_count_noun</th>\n",
       "      <th>sqrt_count_verb</th>\n",
       "      <th>sqrt_count_adj</th>\n",
       "      <th>category_경제민주화</th>\n",
       "      <th>category_교통/건축/국토</th>\n",
       "      <th>category_기타</th>\n",
       "      <th>category_농산어촌</th>\n",
       "      <th>category_문화/예술/체육/언론</th>\n",
       "      <th>category_미래</th>\n",
       "      <th>category_반려동물</th>\n",
       "      <th>category_보건복지</th>\n",
       "      <th>category_성장동력</th>\n",
       "      <th>category_안전/환경</th>\n",
       "      <th>category_외교/통일/국방</th>\n",
       "      <th>category_육아/교육</th>\n",
       "      <th>category_인권/성평등</th>\n",
       "      <th>category_일자리</th>\n",
       "      <th>category_저출산/고령화대책</th>\n",
       "      <th>category_정치개혁</th>\n",
       "      <th>category_행정</th>\n",
       "      <th>emotion_angry</th>\n",
       "      <th>emotion_disgust</th>\n",
       "      <th>emotion_dontknow</th>\n",
       "      <th>emotion_fear</th>\n",
       "      <th>emotion_sad</th>\n",
       "    </tr>\n",
       "  </thead>\n",
       "  <tbody>\n",
       "    <tr>\n",
       "      <th>0</th>\n",
       "      <td>80</td>\n",
       "      <td>1</td>\n",
       "      <td>7.375256</td>\n",
       "      <td>15.716234</td>\n",
       "      <td>7.348469</td>\n",
       "      <td>4.242641</td>\n",
       "      <td>0</td>\n",
       "      <td>0</td>\n",
       "      <td>0</td>\n",
       "      <td>0</td>\n",
       "      <td>0</td>\n",
       "      <td>0</td>\n",
       "      <td>0</td>\n",
       "      <td>0</td>\n",
       "      <td>0</td>\n",
       "      <td>0</td>\n",
       "      <td>0</td>\n",
       "      <td>1</td>\n",
       "      <td>0</td>\n",
       "      <td>0</td>\n",
       "      <td>0</td>\n",
       "      <td>0</td>\n",
       "      <td>0</td>\n",
       "      <td>0</td>\n",
       "      <td>0</td>\n",
       "      <td>0</td>\n",
       "      <td>0</td>\n",
       "      <td>1</td>\n",
       "    </tr>\n",
       "    <tr>\n",
       "      <th>1</th>\n",
       "      <td>49</td>\n",
       "      <td>1</td>\n",
       "      <td>6.980076</td>\n",
       "      <td>13.564660</td>\n",
       "      <td>3.872983</td>\n",
       "      <td>2.449490</td>\n",
       "      <td>0</td>\n",
       "      <td>0</td>\n",
       "      <td>0</td>\n",
       "      <td>0</td>\n",
       "      <td>1</td>\n",
       "      <td>0</td>\n",
       "      <td>0</td>\n",
       "      <td>0</td>\n",
       "      <td>0</td>\n",
       "      <td>0</td>\n",
       "      <td>0</td>\n",
       "      <td>0</td>\n",
       "      <td>0</td>\n",
       "      <td>0</td>\n",
       "      <td>0</td>\n",
       "      <td>0</td>\n",
       "      <td>0</td>\n",
       "      <td>1</td>\n",
       "      <td>0</td>\n",
       "      <td>0</td>\n",
       "      <td>0</td>\n",
       "      <td>0</td>\n",
       "    </tr>\n",
       "    <tr>\n",
       "      <th>2</th>\n",
       "      <td>19</td>\n",
       "      <td>1</td>\n",
       "      <td>7.368340</td>\n",
       "      <td>17.860571</td>\n",
       "      <td>6.082763</td>\n",
       "      <td>4.123106</td>\n",
       "      <td>0</td>\n",
       "      <td>0</td>\n",
       "      <td>0</td>\n",
       "      <td>0</td>\n",
       "      <td>0</td>\n",
       "      <td>0</td>\n",
       "      <td>0</td>\n",
       "      <td>0</td>\n",
       "      <td>0</td>\n",
       "      <td>1</td>\n",
       "      <td>0</td>\n",
       "      <td>0</td>\n",
       "      <td>0</td>\n",
       "      <td>0</td>\n",
       "      <td>0</td>\n",
       "      <td>0</td>\n",
       "      <td>0</td>\n",
       "      <td>1</td>\n",
       "      <td>0</td>\n",
       "      <td>0</td>\n",
       "      <td>0</td>\n",
       "      <td>0</td>\n",
       "    </tr>\n",
       "    <tr>\n",
       "      <th>3</th>\n",
       "      <td>20</td>\n",
       "      <td>1</td>\n",
       "      <td>6.768493</td>\n",
       "      <td>11.045361</td>\n",
       "      <td>5.744563</td>\n",
       "      <td>2.645751</td>\n",
       "      <td>0</td>\n",
       "      <td>0</td>\n",
       "      <td>1</td>\n",
       "      <td>0</td>\n",
       "      <td>0</td>\n",
       "      <td>0</td>\n",
       "      <td>0</td>\n",
       "      <td>0</td>\n",
       "      <td>0</td>\n",
       "      <td>0</td>\n",
       "      <td>0</td>\n",
       "      <td>0</td>\n",
       "      <td>0</td>\n",
       "      <td>0</td>\n",
       "      <td>0</td>\n",
       "      <td>0</td>\n",
       "      <td>0</td>\n",
       "      <td>1</td>\n",
       "      <td>0</td>\n",
       "      <td>0</td>\n",
       "      <td>0</td>\n",
       "      <td>0</td>\n",
       "    </tr>\n",
       "    <tr>\n",
       "      <th>4</th>\n",
       "      <td>30</td>\n",
       "      <td>1</td>\n",
       "      <td>7.287561</td>\n",
       "      <td>16.340135</td>\n",
       "      <td>6.244998</td>\n",
       "      <td>2.000000</td>\n",
       "      <td>0</td>\n",
       "      <td>0</td>\n",
       "      <td>0</td>\n",
       "      <td>0</td>\n",
       "      <td>0</td>\n",
       "      <td>0</td>\n",
       "      <td>1</td>\n",
       "      <td>0</td>\n",
       "      <td>0</td>\n",
       "      <td>0</td>\n",
       "      <td>0</td>\n",
       "      <td>0</td>\n",
       "      <td>0</td>\n",
       "      <td>0</td>\n",
       "      <td>0</td>\n",
       "      <td>0</td>\n",
       "      <td>0</td>\n",
       "      <td>0</td>\n",
       "      <td>1</td>\n",
       "      <td>0</td>\n",
       "      <td>0</td>\n",
       "      <td>0</td>\n",
       "    </tr>\n",
       "    <tr>\n",
       "      <th>...</th>\n",
       "      <td>...</td>\n",
       "      <td>...</td>\n",
       "      <td>...</td>\n",
       "      <td>...</td>\n",
       "      <td>...</td>\n",
       "      <td>...</td>\n",
       "      <td>...</td>\n",
       "      <td>...</td>\n",
       "      <td>...</td>\n",
       "      <td>...</td>\n",
       "      <td>...</td>\n",
       "      <td>...</td>\n",
       "      <td>...</td>\n",
       "      <td>...</td>\n",
       "      <td>...</td>\n",
       "      <td>...</td>\n",
       "      <td>...</td>\n",
       "      <td>...</td>\n",
       "      <td>...</td>\n",
       "      <td>...</td>\n",
       "      <td>...</td>\n",
       "      <td>...</td>\n",
       "      <td>...</td>\n",
       "      <td>...</td>\n",
       "      <td>...</td>\n",
       "      <td>...</td>\n",
       "      <td>...</td>\n",
       "      <td>...</td>\n",
       "    </tr>\n",
       "    <tr>\n",
       "      <th>17480</th>\n",
       "      <td>40</td>\n",
       "      <td>0</td>\n",
       "      <td>7.254885</td>\n",
       "      <td>14.798649</td>\n",
       "      <td>6.244998</td>\n",
       "      <td>2.236068</td>\n",
       "      <td>0</td>\n",
       "      <td>0</td>\n",
       "      <td>0</td>\n",
       "      <td>0</td>\n",
       "      <td>0</td>\n",
       "      <td>0</td>\n",
       "      <td>0</td>\n",
       "      <td>0</td>\n",
       "      <td>0</td>\n",
       "      <td>0</td>\n",
       "      <td>0</td>\n",
       "      <td>0</td>\n",
       "      <td>1</td>\n",
       "      <td>0</td>\n",
       "      <td>0</td>\n",
       "      <td>0</td>\n",
       "      <td>0</td>\n",
       "      <td>0</td>\n",
       "      <td>1</td>\n",
       "      <td>0</td>\n",
       "      <td>0</td>\n",
       "      <td>0</td>\n",
       "    </tr>\n",
       "    <tr>\n",
       "      <th>17508</th>\n",
       "      <td>24</td>\n",
       "      <td>0</td>\n",
       "      <td>6.324359</td>\n",
       "      <td>8.944272</td>\n",
       "      <td>4.690416</td>\n",
       "      <td>1.414214</td>\n",
       "      <td>0</td>\n",
       "      <td>1</td>\n",
       "      <td>0</td>\n",
       "      <td>0</td>\n",
       "      <td>0</td>\n",
       "      <td>0</td>\n",
       "      <td>0</td>\n",
       "      <td>0</td>\n",
       "      <td>0</td>\n",
       "      <td>0</td>\n",
       "      <td>0</td>\n",
       "      <td>0</td>\n",
       "      <td>0</td>\n",
       "      <td>0</td>\n",
       "      <td>0</td>\n",
       "      <td>0</td>\n",
       "      <td>0</td>\n",
       "      <td>0</td>\n",
       "      <td>1</td>\n",
       "      <td>0</td>\n",
       "      <td>0</td>\n",
       "      <td>0</td>\n",
       "    </tr>\n",
       "    <tr>\n",
       "      <th>17509</th>\n",
       "      <td>28</td>\n",
       "      <td>0</td>\n",
       "      <td>6.129050</td>\n",
       "      <td>8.717798</td>\n",
       "      <td>2.828427</td>\n",
       "      <td>2.000000</td>\n",
       "      <td>1</td>\n",
       "      <td>0</td>\n",
       "      <td>0</td>\n",
       "      <td>0</td>\n",
       "      <td>0</td>\n",
       "      <td>0</td>\n",
       "      <td>0</td>\n",
       "      <td>0</td>\n",
       "      <td>0</td>\n",
       "      <td>0</td>\n",
       "      <td>0</td>\n",
       "      <td>0</td>\n",
       "      <td>0</td>\n",
       "      <td>0</td>\n",
       "      <td>0</td>\n",
       "      <td>0</td>\n",
       "      <td>0</td>\n",
       "      <td>0</td>\n",
       "      <td>0</td>\n",
       "      <td>1</td>\n",
       "      <td>0</td>\n",
       "      <td>0</td>\n",
       "    </tr>\n",
       "    <tr>\n",
       "      <th>17544</th>\n",
       "      <td>19</td>\n",
       "      <td>0</td>\n",
       "      <td>6.139885</td>\n",
       "      <td>9.165151</td>\n",
       "      <td>4.000000</td>\n",
       "      <td>1.414214</td>\n",
       "      <td>0</td>\n",
       "      <td>0</td>\n",
       "      <td>0</td>\n",
       "      <td>0</td>\n",
       "      <td>0</td>\n",
       "      <td>0</td>\n",
       "      <td>0</td>\n",
       "      <td>0</td>\n",
       "      <td>0</td>\n",
       "      <td>1</td>\n",
       "      <td>0</td>\n",
       "      <td>0</td>\n",
       "      <td>0</td>\n",
       "      <td>0</td>\n",
       "      <td>0</td>\n",
       "      <td>0</td>\n",
       "      <td>0</td>\n",
       "      <td>0</td>\n",
       "      <td>0</td>\n",
       "      <td>1</td>\n",
       "      <td>0</td>\n",
       "      <td>0</td>\n",
       "    </tr>\n",
       "    <tr>\n",
       "      <th>17546</th>\n",
       "      <td>96</td>\n",
       "      <td>0</td>\n",
       "      <td>9.352274</td>\n",
       "      <td>40.669399</td>\n",
       "      <td>22.627417</td>\n",
       "      <td>10.630146</td>\n",
       "      <td>0</td>\n",
       "      <td>0</td>\n",
       "      <td>0</td>\n",
       "      <td>0</td>\n",
       "      <td>0</td>\n",
       "      <td>0</td>\n",
       "      <td>0</td>\n",
       "      <td>1</td>\n",
       "      <td>0</td>\n",
       "      <td>0</td>\n",
       "      <td>0</td>\n",
       "      <td>0</td>\n",
       "      <td>0</td>\n",
       "      <td>0</td>\n",
       "      <td>0</td>\n",
       "      <td>0</td>\n",
       "      <td>0</td>\n",
       "      <td>1</td>\n",
       "      <td>0</td>\n",
       "      <td>0</td>\n",
       "      <td>0</td>\n",
       "      <td>0</td>\n",
       "    </tr>\n",
       "  </tbody>\n",
       "</table>\n",
       "<p>1895 rows × 28 columns</p>\n",
       "</div>"
      ],
      "text/plain": [
       "       title_len  target  log_doc_len  sqrt_count_noun  sqrt_count_verb  \\\n",
       "0             80       1     7.375256        15.716234         7.348469   \n",
       "1             49       1     6.980076        13.564660         3.872983   \n",
       "2             19       1     7.368340        17.860571         6.082763   \n",
       "3             20       1     6.768493        11.045361         5.744563   \n",
       "4             30       1     7.287561        16.340135         6.244998   \n",
       "...          ...     ...          ...              ...              ...   \n",
       "17480         40       0     7.254885        14.798649         6.244998   \n",
       "17508         24       0     6.324359         8.944272         4.690416   \n",
       "17509         28       0     6.129050         8.717798         2.828427   \n",
       "17544         19       0     6.139885         9.165151         4.000000   \n",
       "17546         96       0     9.352274        40.669399        22.627417   \n",
       "\n",
       "       sqrt_count_adj  category_경제민주화  category_교통/건축/국토  category_기타  \\\n",
       "0            4.242641               0                  0            0   \n",
       "1            2.449490               0                  0            0   \n",
       "2            4.123106               0                  0            0   \n",
       "3            2.645751               0                  0            1   \n",
       "4            2.000000               0                  0            0   \n",
       "...               ...             ...                ...          ...   \n",
       "17480        2.236068               0                  0            0   \n",
       "17508        1.414214               0                  1            0   \n",
       "17509        2.000000               1                  0            0   \n",
       "17544        1.414214               0                  0            0   \n",
       "17546       10.630146               0                  0            0   \n",
       "\n",
       "       category_농산어촌  category_문화/예술/체육/언론  category_미래  category_반려동물  \\\n",
       "0                  0                     0            0              0   \n",
       "1                  0                     1            0              0   \n",
       "2                  0                     0            0              0   \n",
       "3                  0                     0            0              0   \n",
       "4                  0                     0            0              1   \n",
       "...              ...                   ...          ...            ...   \n",
       "17480              0                     0            0              0   \n",
       "17508              0                     0            0              0   \n",
       "17509              0                     0            0              0   \n",
       "17544              0                     0            0              0   \n",
       "17546              0                     0            0              0   \n",
       "\n",
       "       category_보건복지  category_성장동력  category_안전/환경  category_외교/통일/국방  \\\n",
       "0                  0              0               0                  0   \n",
       "1                  0              0               0                  0   \n",
       "2                  0              0               1                  0   \n",
       "3                  0              0               0                  0   \n",
       "4                  0              0               0                  0   \n",
       "...              ...            ...             ...                ...   \n",
       "17480              0              0               0                  0   \n",
       "17508              0              0               0                  0   \n",
       "17509              0              0               0                  0   \n",
       "17544              0              0               1                  0   \n",
       "17546              1              0               0                  0   \n",
       "\n",
       "       category_육아/교육  category_인권/성평등  category_일자리  category_저출산/고령화대책  \\\n",
       "0                   1                0             0                   0   \n",
       "1                   0                0             0                   0   \n",
       "2                   0                0             0                   0   \n",
       "3                   0                0             0                   0   \n",
       "4                   0                0             0                   0   \n",
       "...               ...              ...           ...                 ...   \n",
       "17480               0                1             0                   0   \n",
       "17508               0                0             0                   0   \n",
       "17509               0                0             0                   0   \n",
       "17544               0                0             0                   0   \n",
       "17546               0                0             0                   0   \n",
       "\n",
       "       category_정치개혁  category_행정  emotion_angry  emotion_disgust  \\\n",
       "0                  0            0              0                0   \n",
       "1                  0            0              1                0   \n",
       "2                  0            0              1                0   \n",
       "3                  0            0              1                0   \n",
       "4                  0            0              0                1   \n",
       "...              ...          ...            ...              ...   \n",
       "17480              0            0              0                1   \n",
       "17508              0            0              0                1   \n",
       "17509              0            0              0                0   \n",
       "17544              0            0              0                0   \n",
       "17546              0            0              1                0   \n",
       "\n",
       "       emotion_dontknow  emotion_fear  emotion_sad  \n",
       "0                     0             0            1  \n",
       "1                     0             0            0  \n",
       "2                     0             0            0  \n",
       "3                     0             0            0  \n",
       "4                     0             0            0  \n",
       "...                 ...           ...          ...  \n",
       "17480                 0             0            0  \n",
       "17508                 0             0            0  \n",
       "17509                 1             0            0  \n",
       "17544                 1             0            0  \n",
       "17546                 0             0            0  \n",
       "\n",
       "[1895 rows x 28 columns]"
      ]
     },
     "execution_count": 399,
     "metadata": {},
     "output_type": "execute_result"
    }
   ],
   "source": [
    "df_dummies"
   ]
  },
  {
   "cell_type": "markdown",
   "metadata": {},
   "source": [
    "### train, test split"
   ]
  },
  {
   "cell_type": "code",
   "execution_count": 412,
   "metadata": {},
   "outputs": [],
   "source": [
    "from sklearn.model_selection import train_test_split\n",
    "\n",
    "train, test = train_test_split(df_dummies, stratify = df_dummies['target'], test_size = 0.2, shuffle = True, random_state = 42)"
   ]
  },
  {
   "cell_type": "code",
   "execution_count": 413,
   "metadata": {},
   "outputs": [
    {
     "name": "stdout",
     "output_type": "stream",
     "text": [
      "(1516, 28)\n",
      "(379, 28)\n"
     ]
    }
   ],
   "source": [
    "print(train.shape)\n",
    "print(test.shape)"
   ]
  },
  {
   "cell_type": "code",
   "execution_count": 414,
   "metadata": {},
   "outputs": [],
   "source": [
    "X_train = train.drop(['target'], axis = 1)\n",
    "y_train = train['target']\n",
    "\n",
    "X_test = test.drop(['target'], axis = 1)\n",
    "y_test = test['target']"
   ]
  },
  {
   "cell_type": "code",
   "execution_count": 415,
   "metadata": {},
   "outputs": [
    {
     "data": {
      "text/plain": [
       "0"
      ]
     },
     "execution_count": 415,
     "metadata": {},
     "output_type": "execute_result"
    }
   ],
   "source": [
    "y_train.isnull().sum()"
   ]
  },
  {
   "cell_type": "markdown",
   "metadata": {},
   "source": [
    "### 스케일링 및 오버샘플링 "
   ]
  },
  {
   "cell_type": "code",
   "execution_count": 410,
   "metadata": {},
   "outputs": [],
   "source": [
    "from sklearn.preprocessing import MinMaxScaler\n",
    "\n",
    "scaler = MinMaxScaler(feature_range=(0, 1))\n",
    "scaler.fit_transform(X_train)\n",
    "X_train = scaler.fit_transform(X_train)"
   ]
  },
  {
   "cell_type": "code",
   "execution_count": 411,
   "metadata": {},
   "outputs": [
    {
     "data": {
      "text/plain": [
       "1516"
      ]
     },
     "execution_count": 411,
     "metadata": {},
     "output_type": "execute_result"
    }
   ],
   "source": [
    "len(list(y_train))"
   ]
  },
  {
   "cell_type": "code",
   "execution_count": 320,
   "metadata": {},
   "outputs": [],
   "source": [
    "from imblearn.over_sampling import SMOTE as sm\n",
    "\n",
    "sm = SMOTE(random_state = 42)\n",
    "\n",
    "X_resampled, y_resampled = sm.fit_sample(X_train,y_train)"
   ]
  },
  {
   "cell_type": "code",
   "execution_count": 321,
   "metadata": {},
   "outputs": [
    {
     "name": "stdout",
     "output_type": "stream",
     "text": [
      "(2814, 27)\n",
      "(2814,)\n"
     ]
    }
   ],
   "source": [
    "print(X_resampled.shape)\n",
    "print(y_resampled.shape)"
   ]
  },
  {
   "cell_type": "code",
   "execution_count": 322,
   "metadata": {},
   "outputs": [
    {
     "data": {
      "text/plain": [
       "1    1407\n",
       "0    1407\n",
       "Name: target, dtype: int64"
      ]
     },
     "execution_count": 322,
     "metadata": {},
     "output_type": "execute_result"
    }
   ],
   "source": [
    "y_resampled.value_counts()"
   ]
  },
  {
   "cell_type": "markdown",
   "metadata": {},
   "source": [
    "### 예측"
   ]
  },
  {
   "cell_type": "code",
   "execution_count": 323,
   "metadata": {},
   "outputs": [],
   "source": [
    "from sklearn.model_selection import cross_val_score\n",
    "from sklearn.model_selection import cross_val_predict\n",
    "\n",
    "from sklearn.model_selection import StratifiedKFold\n",
    "from sklearn.model_selection import GridSearchCV\n",
    "\n",
    "from sklearn.ensemble import RandomForestClassifier, GradientBoostingClassifier  # 분류\n",
    "from sklearn.linear_model import LogisticRegression\n",
    "from xgboost import XGBClassifier\n",
    "from sklearn.ensemble import AdaBoostClassifier\n",
    "\n",
    "from sklearn.metrics import confusion_matrix\n",
    "from sklearn.metrics import classification_report\n",
    "\n",
    "import warnings\n",
    "warnings.filterwarnings(action='ignore')\n",
    "\n",
    "import seaborn as sns"
   ]
  },
  {
   "cell_type": "code",
   "execution_count": 360,
   "metadata": {},
   "outputs": [],
   "source": [
    "from sklearn.metrics import accuracy_score, precision_score, recall_score, roc_auc_score\n",
    "\n",
    "def Modeling_result(train_x, train_y, valid_x, valid_y):\n",
    "    \n",
    "    models = [LogisticRegression(), RandomForestClassifier(), AdaBoostClassifier(), XGBClassifier()]\n",
    "    names = [\"Logistic\",\"RF\",\"Ada\",\"XGB\"]\n",
    "\n",
    "    train_acc = []\n",
    "    train_precision = []\n",
    "    train_recall = []\n",
    "    train_roc = []\n",
    "\n",
    "    valid_acc = []\n",
    "    valid_precision = []\n",
    "    valid_recall = []\n",
    "    valid_roc = []\n",
    "\n",
    "\n",
    "    for model, name in zip(models, names):\n",
    "\n",
    "        model.fit(train_x,train_y)\n",
    "        model.predict(valid_x)\n",
    "\n",
    "        train_acc.append(accuracy_score(train_y,model.predict(train_x)))\n",
    "        train_precision.append(precision_score(train_y,model.predict(train_x)))\n",
    "        train_recall.append(recall_score(train_y,model.predict(train_x)))\n",
    "        train_roc.append(roc_auc_score(train_y, model.predict(train_x)))\n",
    "\n",
    "        valid_acc.append(accuracy_score(valid_y, model.predict(valid_x)))\n",
    "        valid_precision.append(precision_score(valid_y,model.predict(valid_x)))\n",
    "        valid_recall.append(recall_score(valid_y,model.predict(valid_x)))\n",
    "        valid_roc.append(roc_auc_score(valid_y, model.predict(valid_x)))\n",
    "        \n",
    "    return pd.DataFrame({\"Model\":names, \"Train_Accuracy\":train_acc, \"Train_Precision\":train_precision, \"Train_Recall\":train_recall, \"Train_AUC\":train_roc,\n",
    "             \"Valid_Accuracy\":valid_acc, \"Valid_Precision\":valid_precision, \"Valid_Recall\":valid_recall, \"Valid_AUC\":valid_roc})"
   ]
  },
  {
   "cell_type": "code",
   "execution_count": 361,
   "metadata": {},
   "outputs": [
    {
     "name": "stdout",
     "output_type": "stream",
     "text": [
      "(2814, 27)\n",
      "(2814,)\n",
      "(379, 27)\n",
      "(379,)\n"
     ]
    }
   ],
   "source": [
    "print(X_resampled.shape)\n",
    "print(y_resampled.shape)\n",
    "\n",
    "print(X_test.shape)\n",
    "print(y_test.shape)"
   ]
  },
  {
   "cell_type": "code",
   "execution_count": 362,
   "metadata": {},
   "outputs": [
    {
     "name": "stdout",
     "output_type": "stream",
     "text": [
      "[23:32:24] WARNING: C:/Users/Administrator/workspace/xgboost-win64_release_1.3.0/src/learner.cc:1061: Starting in XGBoost 1.3.0, the default evaluation metric used with the objective 'binary:logistic' was changed from 'error' to 'logloss'. Explicitly set eval_metric if you'd like to restore the old behavior.\n"
     ]
    },
    {
     "data": {
      "text/html": [
       "<div>\n",
       "<style scoped>\n",
       "    .dataframe tbody tr th:only-of-type {\n",
       "        vertical-align: middle;\n",
       "    }\n",
       "\n",
       "    .dataframe tbody tr th {\n",
       "        vertical-align: top;\n",
       "    }\n",
       "\n",
       "    .dataframe thead th {\n",
       "        text-align: right;\n",
       "    }\n",
       "</style>\n",
       "<table border=\"1\" class=\"dataframe\">\n",
       "  <thead>\n",
       "    <tr style=\"text-align: right;\">\n",
       "      <th></th>\n",
       "      <th>Model</th>\n",
       "      <th>Train_Accuracy</th>\n",
       "      <th>Train_Precision</th>\n",
       "      <th>Train_Recall</th>\n",
       "      <th>Train_AUC</th>\n",
       "      <th>Valid_Accuracy</th>\n",
       "      <th>Valid_Precision</th>\n",
       "      <th>Valid_Recall</th>\n",
       "      <th>Valid_AUC</th>\n",
       "    </tr>\n",
       "  </thead>\n",
       "  <tbody>\n",
       "    <tr>\n",
       "      <th>0</th>\n",
       "      <td>Logistic</td>\n",
       "      <td>0.659559</td>\n",
       "      <td>0.637815</td>\n",
       "      <td>0.738451</td>\n",
       "      <td>0.659559</td>\n",
       "      <td>0.071240</td>\n",
       "      <td>0.07124</td>\n",
       "      <td>1.0</td>\n",
       "      <td>0.500000</td>\n",
       "    </tr>\n",
       "    <tr>\n",
       "      <th>1</th>\n",
       "      <td>RF</td>\n",
       "      <td>1.000000</td>\n",
       "      <td>1.000000</td>\n",
       "      <td>1.000000</td>\n",
       "      <td>1.000000</td>\n",
       "      <td>0.928760</td>\n",
       "      <td>0.00000</td>\n",
       "      <td>0.0</td>\n",
       "      <td>0.500000</td>\n",
       "    </tr>\n",
       "    <tr>\n",
       "      <th>2</th>\n",
       "      <td>Ada</td>\n",
       "      <td>0.761905</td>\n",
       "      <td>0.747482</td>\n",
       "      <td>0.791045</td>\n",
       "      <td>0.761905</td>\n",
       "      <td>0.891821</td>\n",
       "      <td>0.00000</td>\n",
       "      <td>0.0</td>\n",
       "      <td>0.480114</td>\n",
       "    </tr>\n",
       "    <tr>\n",
       "      <th>3</th>\n",
       "      <td>XGB</td>\n",
       "      <td>0.996802</td>\n",
       "      <td>1.000000</td>\n",
       "      <td>0.993603</td>\n",
       "      <td>0.996802</td>\n",
       "      <td>0.928760</td>\n",
       "      <td>0.00000</td>\n",
       "      <td>0.0</td>\n",
       "      <td>0.500000</td>\n",
       "    </tr>\n",
       "  </tbody>\n",
       "</table>\n",
       "</div>"
      ],
      "text/plain": [
       "      Model  Train_Accuracy  Train_Precision  Train_Recall  Train_AUC  \\\n",
       "0  Logistic        0.659559         0.637815      0.738451   0.659559   \n",
       "1        RF        1.000000         1.000000      1.000000   1.000000   \n",
       "2       Ada        0.761905         0.747482      0.791045   0.761905   \n",
       "3       XGB        0.996802         1.000000      0.993603   0.996802   \n",
       "\n",
       "   Valid_Accuracy  Valid_Precision  Valid_Recall  Valid_AUC  \n",
       "0        0.071240          0.07124           1.0   0.500000  \n",
       "1        0.928760          0.00000           0.0   0.500000  \n",
       "2        0.891821          0.00000           0.0   0.480114  \n",
       "3        0.928760          0.00000           0.0   0.500000  "
      ]
     },
     "execution_count": 362,
     "metadata": {},
     "output_type": "execute_result"
    }
   ],
   "source": [
    "right = Modeling_result(X_resampled, y_resampled, X_test.values, y_test)\n",
    "right"
   ]
  },
  {
   "cell_type": "code",
   "execution_count": 367,
   "metadata": {},
   "outputs": [
    {
     "name": "stdout",
     "output_type": "stream",
     "text": [
      "[23:36:13] WARNING: C:/Users/Administrator/workspace/xgboost-win64_release_1.3.0/src/learner.cc:1061: Starting in XGBoost 1.3.0, the default evaluation metric used with the objective 'binary:logistic' was changed from 'error' to 'logloss'. Explicitly set eval_metric if you'd like to restore the old behavior.\n"
     ]
    },
    {
     "data": {
      "text/plain": [
       "array([[352,   0],\n",
       "       [ 27,   0]], dtype=int64)"
      ]
     },
     "execution_count": 367,
     "metadata": {},
     "output_type": "execute_result"
    }
   ],
   "source": [
    "xgb = XGBClassifier()\n",
    "xgb.fit(X_resampled, y_resampled)\n",
    "y_pred = xgb.predict(X_test.values)\n",
    "\n",
    "cm = confusion_matrix(y_test, y_pred)\n",
    "cm"
   ]
  },
  {
   "cell_type": "code",
   "execution_count": 368,
   "metadata": {},
   "outputs": [
    {
     "data": {
      "text/plain": [
       "0.9287598944591029"
      ]
     },
     "execution_count": 368,
     "metadata": {},
     "output_type": "execute_result"
    }
   ],
   "source": [
    "accuracy_score(y_test, y_pred)"
   ]
  },
  {
   "cell_type": "code",
   "execution_count": 369,
   "metadata": {},
   "outputs": [
    {
     "data": {
      "text/plain": [
       "0.9287598944591029"
      ]
     },
     "execution_count": 369,
     "metadata": {},
     "output_type": "execute_result"
    }
   ],
   "source": [
    "print(xgb.feature_importances_)\n"
   ]
  },
  {
   "cell_type": "code",
   "execution_count": 370,
   "metadata": {},
   "outputs": [
    {
     "data": {
      "text/plain": [
       "<function matplotlib.pyplot.show(close=None, block=None)>"
      ]
     },
     "execution_count": 370,
     "metadata": {},
     "output_type": "execute_result"
    },
    {
     "data": {
      "image/png": "[encoded data removed]",
      "text/plain": [
       "<Figure size 432x288 with 1 Axes>"
      ]
     },
     "metadata": {
      "needs_background": "light"
     },
     "output_type": "display_data"
    }
   ],
   "source": [
    "import matplotlib.pyplot as plt\n",
    "plt.bar(range(len(xgb.feature_importances_)), xgb.feature_importances_)\n",
    "plt.show"
   ]
  },
  {
   "cell_type": "code",
   "execution_count": 416,
   "metadata": {},
   "outputs": [],
   "source": [
    "col =['title_len','log_doc_len','sqrt_count_noun','sqrt_count_verb','sqrt_count_adj']\n",
    "\n",
    "from imblearn.over_sampling import SMOTE as sm\n",
    "\n",
    "scaler = MinMaxScaler(feature_range=(0, 1))\n",
    "scaler.fit_transform(X_train[col])\n",
    "X_train = scaler.fit_transform(X_train[col])\n",
    "\n",
    "sm = SMOTE(random_state = 42)\n",
    "\n",
    "X_resampled, y_resampled = sm.fit_sample(X_train,y_train)\n"
   ]
  },
  {
   "cell_type": "code",
   "execution_count": 418,
   "metadata": {},
   "outputs": [
    {
     "name": "stdout",
     "output_type": "stream",
     "text": [
      "[23:44:30] WARNING: C:/Users/Administrator/workspace/xgboost-win64_release_1.3.0/src/learner.cc:1061: Starting in XGBoost 1.3.0, the default evaluation metric used with the objective 'binary:logistic' was changed from 'error' to 'logloss'. Explicitly set eval_metric if you'd like to restore the old behavior.\n"
     ]
    },
    {
     "data": {
      "text/html": [
       "<div>\n",
       "<style scoped>\n",
       "    .dataframe tbody tr th:only-of-type {\n",
       "        vertical-align: middle;\n",
       "    }\n",
       "\n",
       "    .dataframe tbody tr th {\n",
       "        vertical-align: top;\n",
       "    }\n",
       "\n",
       "    .dataframe thead th {\n",
       "        text-align: right;\n",
       "    }\n",
       "</style>\n",
       "<table border=\"1\" class=\"dataframe\">\n",
       "  <thead>\n",
       "    <tr style=\"text-align: right;\">\n",
       "      <th></th>\n",
       "      <th>Model</th>\n",
       "      <th>Train_Accuracy</th>\n",
       "      <th>Train_Precision</th>\n",
       "      <th>Train_Recall</th>\n",
       "      <th>Train_AUC</th>\n",
       "      <th>Valid_Accuracy</th>\n",
       "      <th>Valid_Precision</th>\n",
       "      <th>Valid_Recall</th>\n",
       "      <th>Valid_AUC</th>\n",
       "    </tr>\n",
       "  </thead>\n",
       "  <tbody>\n",
       "    <tr>\n",
       "      <th>0</th>\n",
       "      <td>Logistic</td>\n",
       "      <td>0.528429</td>\n",
       "      <td>0.530960</td>\n",
       "      <td>0.487562</td>\n",
       "      <td>0.528429</td>\n",
       "      <td>0.071240</td>\n",
       "      <td>0.07124</td>\n",
       "      <td>1.0</td>\n",
       "      <td>0.500000</td>\n",
       "    </tr>\n",
       "    <tr>\n",
       "      <th>1</th>\n",
       "      <td>RF</td>\n",
       "      <td>1.000000</td>\n",
       "      <td>1.000000</td>\n",
       "      <td>1.000000</td>\n",
       "      <td>1.000000</td>\n",
       "      <td>0.928760</td>\n",
       "      <td>0.00000</td>\n",
       "      <td>0.0</td>\n",
       "      <td>0.500000</td>\n",
       "    </tr>\n",
       "    <tr>\n",
       "      <th>2</th>\n",
       "      <td>Ada</td>\n",
       "      <td>0.703980</td>\n",
       "      <td>0.697115</td>\n",
       "      <td>0.721393</td>\n",
       "      <td>0.703980</td>\n",
       "      <td>0.865435</td>\n",
       "      <td>0.00000</td>\n",
       "      <td>0.0</td>\n",
       "      <td>0.465909</td>\n",
       "    </tr>\n",
       "    <tr>\n",
       "      <th>3</th>\n",
       "      <td>XGB</td>\n",
       "      <td>0.998579</td>\n",
       "      <td>0.999288</td>\n",
       "      <td>0.997868</td>\n",
       "      <td>0.998579</td>\n",
       "      <td>0.928760</td>\n",
       "      <td>0.00000</td>\n",
       "      <td>0.0</td>\n",
       "      <td>0.500000</td>\n",
       "    </tr>\n",
       "  </tbody>\n",
       "</table>\n",
       "</div>"
      ],
      "text/plain": [
       "      Model  Train_Accuracy  Train_Precision  Train_Recall  Train_AUC  \\\n",
       "0  Logistic        0.528429         0.530960      0.487562   0.528429   \n",
       "1        RF        1.000000         1.000000      1.000000   1.000000   \n",
       "2       Ada        0.703980         0.697115      0.721393   0.703980   \n",
       "3       XGB        0.998579         0.999288      0.997868   0.998579   \n",
       "\n",
       "   Valid_Accuracy  Valid_Precision  Valid_Recall  Valid_AUC  \n",
       "0        0.071240          0.07124           1.0   0.500000  \n",
       "1        0.928760          0.00000           0.0   0.500000  \n",
       "2        0.865435          0.00000           0.0   0.465909  \n",
       "3        0.928760          0.00000           0.0   0.500000  "
      ]
     },
     "execution_count": 418,
     "metadata": {},
     "output_type": "execute_result"
    }
   ],
   "source": [
    "right = Modeling_result(X_resampled, y_resampled, X_test[col].values, y_test)\n",
    "right"
   ]
  },
  {
   "cell_type": "code",
   "execution_count": null,
   "metadata": {},
   "outputs": [],
   "source": []
  }
 ],
 "metadata": {
  "kernelspec": {
   "display_name": "Python 3",
   "language": "python",
   "name": "python3"
  },
  "language_info": {
   "codemirror_mode": {
    "name": "ipython",
    "version": 3
   },
   "file_extension": ".py",
   "mimetype": "text/x-python",
   "name": "python",
   "nbconvert_exporter": "python",
   "pygments_lexer": "ipython3",
   "version": "3.7.6"
  }
 },
 "nbformat": 4,
 "nbformat_minor": 4
}
